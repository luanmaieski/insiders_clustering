{
 "cells": [
  {
   "cell_type": "markdown",
   "id": "d2f73e62",
   "metadata": {},
   "source": [
    "# PA005: High Value Customer Identification (Insiders)"
   ]
  },
  {
   "cell_type": "markdown",
   "id": "64bf2b2c",
   "metadata": {},
   "source": [
    "# <div style=\"color:red;display:fill;border-radius:15px;background-color:#5d6d7e;letter-spacing:0.2px;overflow:hidden\"><p style=\"padding:10px;color:white;overflow:hidden;text-align: center;margin:0;font-size:100%\">0.0. Imports</p></div>"
   ]
  },
  {
   "cell_type": "code",
   "execution_count": 1,
   "id": "5f789da1",
   "metadata": {
    "ExecuteTime": {
     "end_time": "2023-08-22T11:42:01.362880Z",
     "start_time": "2023-08-22T11:41:52.069336Z"
    }
   },
   "outputs": [
    {
     "name": "stderr",
     "output_type": "stream",
     "text": [
      "/home/luanmaieski/.pyenv/versions/3.11.4/envs/pa005clustering/lib/python3.11/site-packages/umap/distances.py:1063: NumbaDeprecationWarning: The 'nopython' keyword argument was not supplied to the 'numba.jit' decorator. The implicit default value for this argument is currently False, but it will be changed to True in Numba 0.59.0. See https://numba.readthedocs.io/en/stable/reference/deprecation.html#deprecation-of-object-mode-fall-back-behaviour-when-using-jit for details.\n",
      "  @numba.jit()\n",
      "/home/luanmaieski/.pyenv/versions/3.11.4/envs/pa005clustering/lib/python3.11/site-packages/umap/distances.py:1071: NumbaDeprecationWarning: The 'nopython' keyword argument was not supplied to the 'numba.jit' decorator. The implicit default value for this argument is currently False, but it will be changed to True in Numba 0.59.0. See https://numba.readthedocs.io/en/stable/reference/deprecation.html#deprecation-of-object-mode-fall-back-behaviour-when-using-jit for details.\n",
      "  @numba.jit()\n",
      "/home/luanmaieski/.pyenv/versions/3.11.4/envs/pa005clustering/lib/python3.11/site-packages/umap/distances.py:1086: NumbaDeprecationWarning: The 'nopython' keyword argument was not supplied to the 'numba.jit' decorator. The implicit default value for this argument is currently False, but it will be changed to True in Numba 0.59.0. See https://numba.readthedocs.io/en/stable/reference/deprecation.html#deprecation-of-object-mode-fall-back-behaviour-when-using-jit for details.\n",
      "  @numba.jit()\n",
      "/home/luanmaieski/.pyenv/versions/3.11.4/envs/pa005clustering/lib/python3.11/site-packages/tqdm/auto.py:21: TqdmWarning: IProgress not found. Please update jupyter and ipywidgets. See https://ipywidgets.readthedocs.io/en/stable/user_install.html\n",
      "  from .autonotebook import tqdm as notebook_tqdm\n",
      "/home/luanmaieski/.pyenv/versions/3.11.4/envs/pa005clustering/lib/python3.11/site-packages/umap/umap_.py:660: NumbaDeprecationWarning: The 'nopython' keyword argument was not supplied to the 'numba.jit' decorator. The implicit default value for this argument is currently False, but it will be changed to True in Numba 0.59.0. See https://numba.readthedocs.io/en/stable/reference/deprecation.html#deprecation-of-object-mode-fall-back-behaviour-when-using-jit for details.\n",
      "  @numba.jit()\n"
     ]
    }
   ],
   "source": [
    "import seaborn as sns\n",
    "import pandas as pd\n",
    "import numpy as np\n",
    "import inflection\n",
    "import sqlalchemy\n",
    "import sqlite3\n",
    "import pickle\n",
    "import s3fs\n",
    "import re\n",
    "import os\n",
    "\n",
    "import matplotlib.cm as cm\n",
    "from matplotlib        import pyplot as plt\n",
    "from plotly            import express as px\n",
    "\n",
    "from sklearn           import cluster as c\n",
    "from sklearn           import metrics as mt\n",
    "from sklearn           import ensemble as en\n",
    "from sklearn           import preprocessing as pp\n",
    "from sklearn           import decomposition as dd\n",
    "from sklearn           import mixture as mx\n",
    "from sklearn.manifold  import TSNE\n",
    "from sklearn.neighbors import NearestNeighbors\n",
    "\n",
    "from decouple import config\n",
    "from scipy.cluster     import hierarchy as hc\n",
    "import umap.umap_ as umap\n",
    "import warnings\n",
    "warnings.filterwarnings( 'ignore' )"
   ]
  },
  {
   "cell_type": "code",
   "execution_count": 2,
   "id": "bdd3f423",
   "metadata": {},
   "outputs": [],
   "source": [
    "plt.rcParams['figure.figsize'] = [15, 5]"
   ]
  },
  {
   "cell_type": "code",
   "execution_count": 2,
   "id": "31c08e93",
   "metadata": {},
   "outputs": [],
   "source": [
    "AWS_ACCESS_KEY_ID = os.environ.get( 'AWS_ACCESS_KEY_ID' )\n",
    "AWS_SECRET_ACCESS_KEY = os.environ.get( 'AWS_SECRET_ACCESS_KEY' ) "
   ]
  },
  {
   "cell_type": "markdown",
   "id": "f3e74801",
   "metadata": {},
   "source": [
    "## 0.2. Load Dataset"
   ]
  },
  {
   "cell_type": "code",
   "execution_count": 3,
   "id": "b4d4a342",
   "metadata": {
    "ExecuteTime": {
     "end_time": "2023-08-22T11:42:32.037266Z",
     "start_time": "2023-08-22T11:42:31.244026Z"
    }
   },
   "outputs": [],
   "source": [
    "# load data\n",
    "path_local = '/home/luanmaieski/projetos/insiders_clustering/'\n",
    "path_s3 = 's3://insidersdatasetlgm/'\n",
    "df_raw = pd.read_csv( path_s3 + 'Ecommerce.csv', encoding='iso-8859-1')\n",
    "\n",
    "# drop extra column\n",
    "df_raw = df_raw.drop(columns=['Unnamed: 8'], axis=1 )"
   ]
  },
  {
   "cell_type": "markdown",
   "id": "0d3c9c22",
   "metadata": {
    "ExecuteTime": {
     "end_time": "2023-07-28T12:55:22.660619Z",
     "start_time": "2023-07-28T12:55:22.652618Z"
    }
   },
   "source": [
    "# <div style=\"color:red;display:fill;border-radius:15px;background-color:#5d6d7e;letter-spacing:0.2px;overflow:hidden\"><p style=\"padding:10px;color:white;overflow:hidden;text-align: center;margin:0;font-size:100%\">1.0. Data Description</p></div>"
   ]
  },
  {
   "cell_type": "code",
   "execution_count": 4,
   "id": "289452a9",
   "metadata": {
    "ExecuteTime": {
     "end_time": "2023-08-22T11:42:35.146331Z",
     "start_time": "2023-08-22T11:42:35.133262Z"
    }
   },
   "outputs": [],
   "source": [
    "df1 = df_raw.copy()"
   ]
  },
  {
   "cell_type": "markdown",
   "id": "f37a1b9a",
   "metadata": {},
   "source": [
    "## 1.1. Rename Columns"
   ]
  },
  {
   "cell_type": "code",
   "execution_count": 5,
   "id": "266a0832",
   "metadata": {
    "ExecuteTime": {
     "end_time": "2023-08-22T11:42:36.075017Z",
     "start_time": "2023-08-22T11:42:36.069005Z"
    }
   },
   "outputs": [
    {
     "data": {
      "text/plain": [
       "Index(['InvoiceNo', 'StockCode', 'Description', 'Quantity', 'InvoiceDate',\n",
       "       'UnitPrice', 'CustomerID', 'Country'],\n",
       "      dtype='object')"
      ]
     },
     "execution_count": 5,
     "metadata": {},
     "output_type": "execute_result"
    }
   ],
   "source": [
    "df1.columns"
   ]
  },
  {
   "cell_type": "code",
   "execution_count": 6,
   "id": "2405b6e9",
   "metadata": {
    "ExecuteTime": {
     "end_time": "2023-08-22T11:42:36.562535Z",
     "start_time": "2023-08-22T11:42:36.556403Z"
    }
   },
   "outputs": [],
   "source": [
    "cols_old = ['InvoiceNo', 'StockCode', 'Description', 'Quantity', 'InvoiceDate','UnitPrice', 'CustomerID', 'Country']\n",
    "\n",
    "snakecase = lambda x: inflection.underscore( x )\n",
    "\n",
    "cols_new = list(map( snakecase, cols_old ))\n",
    "\n",
    "#rename\n",
    "df1.columns = cols_new"
   ]
  },
  {
   "cell_type": "code",
   "execution_count": 7,
   "id": "b07e4e6e",
   "metadata": {
    "ExecuteTime": {
     "end_time": "2023-08-22T11:42:38.127703Z",
     "start_time": "2023-08-22T11:42:38.127703Z"
    }
   },
   "outputs": [
    {
     "data": {
      "text/html": [
       "<div>\n",
       "<style scoped>\n",
       "    .dataframe tbody tr th:only-of-type {\n",
       "        vertical-align: middle;\n",
       "    }\n",
       "\n",
       "    .dataframe tbody tr th {\n",
       "        vertical-align: top;\n",
       "    }\n",
       "\n",
       "    .dataframe thead th {\n",
       "        text-align: right;\n",
       "    }\n",
       "</style>\n",
       "<table border=\"1\" class=\"dataframe\">\n",
       "  <thead>\n",
       "    <tr style=\"text-align: right;\">\n",
       "      <th></th>\n",
       "      <th>invoice_no</th>\n",
       "      <th>stock_code</th>\n",
       "      <th>description</th>\n",
       "      <th>quantity</th>\n",
       "      <th>invoice_date</th>\n",
       "      <th>unit_price</th>\n",
       "      <th>customer_id</th>\n",
       "      <th>country</th>\n",
       "    </tr>\n",
       "  </thead>\n",
       "  <tbody>\n",
       "    <tr>\n",
       "      <th>105908</th>\n",
       "      <td>545300</td>\n",
       "      <td>21165</td>\n",
       "      <td>BEWARE OF THE CAT METAL SIGN</td>\n",
       "      <td>12</td>\n",
       "      <td>27-Feb-17</td>\n",
       "      <td>1.69</td>\n",
       "      <td>15092.0</td>\n",
       "      <td>United Kingdom</td>\n",
       "    </tr>\n",
       "  </tbody>\n",
       "</table>\n",
       "</div>"
      ],
      "text/plain": [
       "       invoice_no stock_code                    description  quantity  \\\n",
       "105908     545300      21165  BEWARE OF THE CAT METAL SIGN         12   \n",
       "\n",
       "       invoice_date  unit_price  customer_id         country  \n",
       "105908    27-Feb-17        1.69      15092.0  United Kingdom  "
      ]
     },
     "execution_count": 7,
     "metadata": {},
     "output_type": "execute_result"
    }
   ],
   "source": [
    "df1.sample()"
   ]
  },
  {
   "cell_type": "markdown",
   "id": "982d72c2",
   "metadata": {},
   "source": [
    "## 1.2. Data dimensions"
   ]
  },
  {
   "cell_type": "code",
   "execution_count": 8,
   "id": "6954d0f3",
   "metadata": {
    "ExecuteTime": {
     "end_time": "2023-08-22T11:42:40.816403Z",
     "start_time": "2023-08-22T11:42:40.812470Z"
    }
   },
   "outputs": [
    {
     "name": "stdout",
     "output_type": "stream",
     "text": [
      "Número de Linhas: 541909\n",
      "Número de Colunas: 8\n"
     ]
    }
   ],
   "source": [
    "print( 'Número de Linhas: {}\\nNúmero de Colunas: {}'.format(df1.shape[0], df1.shape[1]) )"
   ]
  },
  {
   "cell_type": "markdown",
   "id": "74f79b02",
   "metadata": {},
   "source": [
    "## 1.3. Data types"
   ]
  },
  {
   "cell_type": "code",
   "execution_count": 9,
   "id": "065aa027",
   "metadata": {
    "ExecuteTime": {
     "end_time": "2023-08-22T11:42:41.762647Z",
     "start_time": "2023-08-22T11:42:41.756437Z"
    }
   },
   "outputs": [
    {
     "data": {
      "text/plain": [
       "invoice_no       object\n",
       "stock_code       object\n",
       "description      object\n",
       "quantity          int64\n",
       "invoice_date     object\n",
       "unit_price      float64\n",
       "customer_id     float64\n",
       "country          object\n",
       "dtype: object"
      ]
     },
     "execution_count": 9,
     "metadata": {},
     "output_type": "execute_result"
    }
   ],
   "source": [
    "df1.dtypes"
   ]
  },
  {
   "cell_type": "markdown",
   "id": "5d17c66e",
   "metadata": {},
   "source": [
    "## 1.4. Check NA"
   ]
  },
  {
   "cell_type": "code",
   "execution_count": 10,
   "id": "5c180baa",
   "metadata": {
    "ExecuteTime": {
     "end_time": "2023-08-22T11:42:43.551748Z",
     "start_time": "2023-08-22T11:42:43.108841Z"
    }
   },
   "outputs": [
    {
     "data": {
      "text/plain": [
       "invoice_no           0\n",
       "stock_code           0\n",
       "description       1454\n",
       "quantity             0\n",
       "invoice_date         0\n",
       "unit_price           0\n",
       "customer_id     135080\n",
       "country              0\n",
       "dtype: int64"
      ]
     },
     "execution_count": 10,
     "metadata": {},
     "output_type": "execute_result"
    }
   ],
   "source": [
    "df1.isna().sum()"
   ]
  },
  {
   "cell_type": "markdown",
   "id": "b3536d97",
   "metadata": {},
   "source": [
    "## 1.5. Replace NA"
   ]
  },
  {
   "cell_type": "code",
   "execution_count": 11,
   "id": "18d19d24",
   "metadata": {
    "ExecuteTime": {
     "end_time": "2023-08-22T11:42:44.612812Z",
     "start_time": "2023-08-22T11:42:44.564491Z"
    }
   },
   "outputs": [],
   "source": [
    "df_missing = df1.loc[df1['customer_id'].isna(), :]\n",
    "df_not_missing = df1.loc[~df1['customer_id'].isna(), :]"
   ]
  },
  {
   "cell_type": "code",
   "execution_count": 12,
   "id": "de6d9815",
   "metadata": {
    "ExecuteTime": {
     "end_time": "2023-08-22T11:42:45.520870Z",
     "start_time": "2023-08-22T11:42:45.309835Z"
    }
   },
   "outputs": [
    {
     "data": {
      "text/html": [
       "<div>\n",
       "<style scoped>\n",
       "    .dataframe tbody tr th:only-of-type {\n",
       "        vertical-align: middle;\n",
       "    }\n",
       "\n",
       "    .dataframe tbody tr th {\n",
       "        vertical-align: top;\n",
       "    }\n",
       "\n",
       "    .dataframe thead th {\n",
       "        text-align: right;\n",
       "    }\n",
       "</style>\n",
       "<table border=\"1\" class=\"dataframe\">\n",
       "  <thead>\n",
       "    <tr style=\"text-align: right;\">\n",
       "      <th></th>\n",
       "      <th>invoice_no</th>\n",
       "      <th>stock_code</th>\n",
       "      <th>description</th>\n",
       "      <th>quantity</th>\n",
       "      <th>invoice_date</th>\n",
       "      <th>unit_price</th>\n",
       "      <th>country</th>\n",
       "      <th>customer_id</th>\n",
       "    </tr>\n",
       "  </thead>\n",
       "  <tbody>\n",
       "    <tr>\n",
       "      <th>0</th>\n",
       "      <td>536365</td>\n",
       "      <td>85123A</td>\n",
       "      <td>WHITE HANGING HEART T-LIGHT HOLDER</td>\n",
       "      <td>6</td>\n",
       "      <td>29-Nov-16</td>\n",
       "      <td>2.55</td>\n",
       "      <td>United Kingdom</td>\n",
       "      <td>17850.0</td>\n",
       "    </tr>\n",
       "    <tr>\n",
       "      <th>1</th>\n",
       "      <td>536365</td>\n",
       "      <td>71053</td>\n",
       "      <td>WHITE METAL LANTERN</td>\n",
       "      <td>6</td>\n",
       "      <td>29-Nov-16</td>\n",
       "      <td>3.39</td>\n",
       "      <td>United Kingdom</td>\n",
       "      <td>17850.0</td>\n",
       "    </tr>\n",
       "    <tr>\n",
       "      <th>2</th>\n",
       "      <td>536365</td>\n",
       "      <td>84406B</td>\n",
       "      <td>CREAM CUPID HEARTS COAT HANGER</td>\n",
       "      <td>8</td>\n",
       "      <td>29-Nov-16</td>\n",
       "      <td>2.75</td>\n",
       "      <td>United Kingdom</td>\n",
       "      <td>17850.0</td>\n",
       "    </tr>\n",
       "    <tr>\n",
       "      <th>3</th>\n",
       "      <td>536365</td>\n",
       "      <td>84029G</td>\n",
       "      <td>KNITTED UNION FLAG HOT WATER BOTTLE</td>\n",
       "      <td>6</td>\n",
       "      <td>29-Nov-16</td>\n",
       "      <td>3.39</td>\n",
       "      <td>United Kingdom</td>\n",
       "      <td>17850.0</td>\n",
       "    </tr>\n",
       "    <tr>\n",
       "      <th>4</th>\n",
       "      <td>536365</td>\n",
       "      <td>84029E</td>\n",
       "      <td>RED WOOLLY HOTTIE WHITE HEART.</td>\n",
       "      <td>6</td>\n",
       "      <td>29-Nov-16</td>\n",
       "      <td>3.39</td>\n",
       "      <td>United Kingdom</td>\n",
       "      <td>17850.0</td>\n",
       "    </tr>\n",
       "  </tbody>\n",
       "</table>\n",
       "</div>"
      ],
      "text/plain": [
       "  invoice_no stock_code                          description  quantity  \\\n",
       "0     536365     85123A   WHITE HANGING HEART T-LIGHT HOLDER         6   \n",
       "1     536365      71053                  WHITE METAL LANTERN         6   \n",
       "2     536365     84406B       CREAM CUPID HEARTS COAT HANGER         8   \n",
       "3     536365     84029G  KNITTED UNION FLAG HOT WATER BOTTLE         6   \n",
       "4     536365     84029E       RED WOOLLY HOTTIE WHITE HEART.         6   \n",
       "\n",
       "  invoice_date  unit_price         country  customer_id  \n",
       "0    29-Nov-16        2.55  United Kingdom      17850.0  \n",
       "1    29-Nov-16        3.39  United Kingdom      17850.0  \n",
       "2    29-Nov-16        2.75  United Kingdom      17850.0  \n",
       "3    29-Nov-16        3.39  United Kingdom      17850.0  \n",
       "4    29-Nov-16        3.39  United Kingdom      17850.0  "
      ]
     },
     "execution_count": 12,
     "metadata": {},
     "output_type": "execute_result"
    }
   ],
   "source": [
    "# create reference\n",
    "df_backup = pd.DataFrame( df_missing['invoice_no'].drop_duplicates() )\n",
    "df_backup['customer_id'] = np.arange( 19000, 19000+len( df_backup), 1)\n",
    "\n",
    "# merge original with reference dataframe\n",
    "df1 = pd.merge( df1, df_backup, on='invoice_no', how='left' )\n",
    "\n",
    "# coalesce\n",
    "df1['customer_id'] = df1['customer_id_x'].combine_first( df1['customer_id_y'] )\n",
    "\n",
    "# drop extra columns\n",
    "df1 = df1.drop( columns=['customer_id_x', 'customer_id_y'], axis=1)\n",
    "\n",
    "df1.head()"
   ]
  },
  {
   "cell_type": "code",
   "execution_count": 13,
   "id": "5722d5e8",
   "metadata": {
    "ExecuteTime": {
     "end_time": "2023-08-22T11:42:47.081517Z",
     "start_time": "2023-08-22T11:42:46.637869Z"
    }
   },
   "outputs": [
    {
     "data": {
      "text/plain": [
       "invoice_no         0\n",
       "stock_code         0\n",
       "description     1454\n",
       "quantity           0\n",
       "invoice_date       0\n",
       "unit_price         0\n",
       "country            0\n",
       "customer_id        0\n",
       "dtype: int64"
      ]
     },
     "execution_count": 13,
     "metadata": {},
     "output_type": "execute_result"
    }
   ],
   "source": [
    "df1.isna().sum()"
   ]
  },
  {
   "cell_type": "markdown",
   "id": "7d5b807e",
   "metadata": {},
   "source": [
    "##  1.6 Change types"
   ]
  },
  {
   "cell_type": "code",
   "execution_count": 14,
   "id": "14b736c0",
   "metadata": {
    "ExecuteTime": {
     "end_time": "2023-08-22T11:42:49.509010Z",
     "start_time": "2023-08-22T11:42:49.444296Z"
    }
   },
   "outputs": [],
   "source": [
    "# invoice date\n",
    "df1['invoice_date'] = pd.to_datetime( df1['invoice_date'], format='%d-%b-%y' )\n",
    "\n",
    "# customer id\n",
    "df1['customer_id'] = df1['customer_id'].astype( 'int64' )"
   ]
  },
  {
   "cell_type": "code",
   "execution_count": 15,
   "id": "308cb46a",
   "metadata": {
    "ExecuteTime": {
     "end_time": "2023-08-22T11:42:50.603863Z",
     "start_time": "2023-08-22T11:42:50.596528Z"
    }
   },
   "outputs": [
    {
     "data": {
      "text/plain": [
       "invoice_no              object\n",
       "stock_code              object\n",
       "description             object\n",
       "quantity                 int64\n",
       "invoice_date    datetime64[ns]\n",
       "unit_price             float64\n",
       "country                 object\n",
       "customer_id              int64\n",
       "dtype: object"
      ]
     },
     "execution_count": 15,
     "metadata": {},
     "output_type": "execute_result"
    }
   ],
   "source": [
    "df1.dtypes"
   ]
  },
  {
   "cell_type": "markdown",
   "id": "e484ac5a",
   "metadata": {},
   "source": [
    "## 1.7. Descriptive Statistics"
   ]
  },
  {
   "cell_type": "code",
   "execution_count": 16,
   "id": "c07121bf",
   "metadata": {
    "ExecuteTime": {
     "end_time": "2023-08-22T11:42:52.225877Z",
     "start_time": "2023-08-22T11:42:52.187773Z"
    }
   },
   "outputs": [],
   "source": [
    "num_attributes = df1.select_dtypes( include=['int64', 'float64'] )\n",
    "cat_attributes = df1.select_dtypes( exclude=['int64', 'float64', 'datetime64[ns]'] )"
   ]
  },
  {
   "cell_type": "markdown",
   "id": "cb7c7864",
   "metadata": {},
   "source": [
    "### 1.7.1. Numerical Attributes"
   ]
  },
  {
   "cell_type": "code",
   "execution_count": 17,
   "id": "e41eadbf",
   "metadata": {
    "ExecuteTime": {
     "end_time": "2023-08-22T11:42:53.633186Z",
     "start_time": "2023-08-22T11:42:53.541535Z"
    }
   },
   "outputs": [
    {
     "data": {
      "text/html": [
       "<div>\n",
       "<style scoped>\n",
       "    .dataframe tbody tr th:only-of-type {\n",
       "        vertical-align: middle;\n",
       "    }\n",
       "\n",
       "    .dataframe tbody tr th {\n",
       "        vertical-align: top;\n",
       "    }\n",
       "\n",
       "    .dataframe thead th {\n",
       "        text-align: right;\n",
       "    }\n",
       "</style>\n",
       "<table border=\"1\" class=\"dataframe\">\n",
       "  <thead>\n",
       "    <tr style=\"text-align: right;\">\n",
       "      <th></th>\n",
       "      <th>attributes</th>\n",
       "      <th>min</th>\n",
       "      <th>max</th>\n",
       "      <th>range</th>\n",
       "      <th>mean</th>\n",
       "      <th>median</th>\n",
       "      <th>std</th>\n",
       "      <th>skew</th>\n",
       "      <th>kurtosis</th>\n",
       "    </tr>\n",
       "  </thead>\n",
       "  <tbody>\n",
       "    <tr>\n",
       "      <th>0</th>\n",
       "      <td>quantity</td>\n",
       "      <td>-80995.00</td>\n",
       "      <td>80995.0</td>\n",
       "      <td>161990.00</td>\n",
       "      <td>9.552250</td>\n",
       "      <td>3.00</td>\n",
       "      <td>218.080957</td>\n",
       "      <td>-0.264076</td>\n",
       "      <td>119769.160031</td>\n",
       "    </tr>\n",
       "    <tr>\n",
       "      <th>1</th>\n",
       "      <td>unit_price</td>\n",
       "      <td>-11062.06</td>\n",
       "      <td>38970.0</td>\n",
       "      <td>50032.06</td>\n",
       "      <td>4.611114</td>\n",
       "      <td>2.08</td>\n",
       "      <td>96.759764</td>\n",
       "      <td>186.506972</td>\n",
       "      <td>59005.719097</td>\n",
       "    </tr>\n",
       "    <tr>\n",
       "      <th>2</th>\n",
       "      <td>customer_id</td>\n",
       "      <td>12346.00</td>\n",
       "      <td>22709.0</td>\n",
       "      <td>10363.00</td>\n",
       "      <td>16688.840453</td>\n",
       "      <td>16249.00</td>\n",
       "      <td>2911.408666</td>\n",
       "      <td>0.487449</td>\n",
       "      <td>-0.804287</td>\n",
       "    </tr>\n",
       "  </tbody>\n",
       "</table>\n",
       "</div>"
      ],
      "text/plain": [
       "    attributes       min      max      range          mean    median  \\\n",
       "0     quantity -80995.00  80995.0  161990.00      9.552250      3.00   \n",
       "1   unit_price -11062.06  38970.0   50032.06      4.611114      2.08   \n",
       "2  customer_id  12346.00  22709.0   10363.00  16688.840453  16249.00   \n",
       "\n",
       "           std        skew       kurtosis  \n",
       "0   218.080957   -0.264076  119769.160031  \n",
       "1    96.759764  186.506972   59005.719097  \n",
       "2  2911.408666    0.487449      -0.804287  "
      ]
     },
     "execution_count": 17,
     "metadata": {},
     "output_type": "execute_result"
    }
   ],
   "source": [
    "# central tendency - mean, median\n",
    "ct1 = pd.DataFrame( num_attributes.apply( np.mean ) ).T\n",
    "ct2 = pd.DataFrame( num_attributes.apply(np.median ) ).T\n",
    "\n",
    "# dispersion - desvio padrão, minimo, maximo, range, skew, kurtosis\n",
    "d1 = pd.DataFrame( num_attributes.apply(np.std ) ).T\n",
    "d2 = pd.DataFrame( num_attributes.apply(np.min ) ).T\n",
    "d3 = pd.DataFrame( num_attributes.apply(np.max ) ).T\n",
    "d4 = pd.DataFrame( num_attributes.apply( lambda x: x.max() - x.min() ) ).T\n",
    "d5 = pd.DataFrame( num_attributes.apply( lambda x: x.skew()) ).T\n",
    "d6 = pd.DataFrame( num_attributes.apply( lambda x: x.kurtosis() ) ).T\n",
    "\n",
    "# concatenate\n",
    "m = pd.concat( [d2, d3, d4, ct1, ct2, d1, d5, d6] ).T.reset_index()\n",
    "m.columns = ['attributes', 'min', 'max', 'range', 'mean', 'median', 'std', 'skew', 'kurtosis']\n",
    "m"
   ]
  },
  {
   "cell_type": "markdown",
   "id": "746e981d",
   "metadata": {},
   "source": [
    "#### 1.7.1.1. Numerical Attributes - Investigating"
   ]
  },
  {
   "cell_type": "markdown",
   "id": "9fef2489",
   "metadata": {},
   "source": [
    "1. Quantity negativa ( pode ser devolução )\n",
    "\n",
    "2. Preço unitário igual a zero ( pode ser promoção? )"
   ]
  },
  {
   "cell_type": "markdown",
   "id": "20082685",
   "metadata": {},
   "source": [
    "### 1.7.2. Categorical Attributes"
   ]
  },
  {
   "cell_type": "markdown",
   "id": "d215e7a4",
   "metadata": {
    "ExecuteTime": {
     "end_time": "2023-08-02T13:33:54.136592Z",
     "start_time": "2023-08-02T13:33:53.486255Z"
    }
   },
   "source": [
    "#### Invoice number"
   ]
  },
  {
   "cell_type": "code",
   "execution_count": 18,
   "id": "fbc1375e",
   "metadata": {
    "ExecuteTime": {
     "end_time": "2023-08-22T11:42:57.477496Z",
     "start_time": "2023-08-22T11:42:56.604836Z"
    }
   },
   "outputs": [
    {
     "name": "stdout",
     "output_type": "stream",
     "text": [
      "Total number of invoices: 9291\n",
      "Total number of negative quantity: 9288\n"
     ]
    }
   ],
   "source": [
    "# problema: Temos invoce com letras e numeros\n",
    "# identificação:\n",
    "df_letter_invoices = df1.loc[df1['invoice_no'].apply( lambda x: bool( re.search( '[^0-9]+', x ) ) ), :]\n",
    "\n",
    "print( 'Total number of invoices: {}'.format( len( df_letter_invoices ) ) )\n",
    "print( 'Total number of negative quantity: {}'.format( len( df_letter_invoices[df_letter_invoices['quantity'] < 0] ) ) )"
   ]
  },
  {
   "cell_type": "markdown",
   "id": "16c53934",
   "metadata": {},
   "source": [
    "#### Stock code"
   ]
  },
  {
   "cell_type": "code",
   "execution_count": 19,
   "id": "3dbfa4a8",
   "metadata": {
    "ExecuteTime": {
     "end_time": "2023-08-22T11:42:59.321961Z",
     "start_time": "2023-08-22T11:42:58.556705Z"
    }
   },
   "outputs": [
    {
     "data": {
      "text/plain": [
       "array(['POST', 'D', 'DOT', 'M', 'S', 'AMAZONFEE', 'm', 'DCGSSBOY',\n",
       "       'DCGSSGIRL', 'PADS', 'B', 'CRUK'], dtype=object)"
      ]
     },
     "execution_count": 19,
     "metadata": {},
     "output_type": "execute_result"
    }
   ],
   "source": [
    "# check stock codes only characters\n",
    "df1.loc[df1['stock_code'].apply( lambda x: bool( re.search( '^[a-zA-Z]+$', x ) ) ), 'stock_code'].unique()\n",
    "\n",
    "# Ação:\n",
    "# 1. Remove stock_code in ['POST', 'D', 'M', 'PADS', 'DOT', 'CRUK']"
   ]
  },
  {
   "cell_type": "markdown",
   "id": "7616625d",
   "metadata": {},
   "source": [
    "#### Description"
   ]
  },
  {
   "cell_type": "code",
   "execution_count": 20,
   "id": "1f005adf",
   "metadata": {
    "ExecuteTime": {
     "end_time": "2023-08-22T11:43:00.264631Z",
     "start_time": "2023-08-22T11:43:00.260867Z"
    }
   },
   "outputs": [],
   "source": [
    "# Ação: Delete description"
   ]
  },
  {
   "cell_type": "markdown",
   "id": "8de908f5",
   "metadata": {},
   "source": [
    "# <div style=\"color:red;display:fill;border-radius:15px;background-color:#5d6d7e;letter-spacing:0.2px;overflow:hidden\"><p style=\"padding:10px;color:white;overflow:hidden;text-align: center;margin:0;font-size:100%\">2.0. Variable Filters</p></div>  "
   ]
  },
  {
   "cell_type": "code",
   "execution_count": 21,
   "id": "ecf10986",
   "metadata": {
    "ExecuteTime": {
     "end_time": "2023-08-22T11:43:01.592616Z",
     "start_time": "2023-08-22T11:43:01.580280Z"
    }
   },
   "outputs": [],
   "source": [
    "df2 = df1.copy()"
   ]
  },
  {
   "cell_type": "code",
   "execution_count": 22,
   "id": "ea5feae2",
   "metadata": {
    "ExecuteTime": {
     "end_time": "2023-08-22T11:43:02.681534Z",
     "start_time": "2023-08-22T11:43:02.388950Z"
    }
   },
   "outputs": [],
   "source": [
    "# ===== Numerical Attributes =====\n",
    "# unit price > 0.0\n",
    "df2 = df2.loc[df2['unit_price'] > 0.04, :]\n",
    "\n",
    "# ==== Categorical attributes ====\n",
    "# stock code != [POST, D, M, DOT, CRUK]\n",
    "df2 = df2[~df2['stock_code'].isin( ['POST', 'D', 'DOT', 'M', 'S', 'AMAZONFEE', 'm', 'DCGSSBOY', 'DCGSSGIRL', 'PADS', 'B', 'CRUK'] ) ]\n",
    "\n",
    "# description\n",
    "df2 = df2.drop( columns='description', axis=1 )\n",
    "\n",
    "# map\n",
    "df2 = df2[~df2['country'].isin( ['European Community', 'Unspecified'] ) ]\n",
    "\n",
    "# bad users\n",
    "df2 = df2[~df2['customer_id'].isin( [16446]) ]\n",
    "\n",
    "# quantity\n",
    "df2_returns = df2.loc[df2['quantity'] < 0, :]\n",
    "df2_purchase = df2.loc[df2['quantity'] > 0, :]"
   ]
  },
  {
   "cell_type": "markdown",
   "id": "66a6edc6",
   "metadata": {},
   "source": [
    "# <div style=\"color:red;display:fill;border-radius:15px;background-color:#5d6d7e;letter-spacing:0.2px;overflow:hidden\"><p style=\"padding:10px;color:white;overflow:hidden;text-align: center;margin:0;font-size:100%\">3.0. Feature Engineering</p></div> "
   ]
  },
  {
   "cell_type": "code",
   "execution_count": 23,
   "id": "5723c4de",
   "metadata": {
    "ExecuteTime": {
     "end_time": "2023-08-22T11:43:08.223693Z",
     "start_time": "2023-08-22T11:43:08.213374Z"
    }
   },
   "outputs": [],
   "source": [
    "df3 = df2.copy()"
   ]
  },
  {
   "cell_type": "markdown",
   "id": "8fda9b31",
   "metadata": {},
   "source": [
    "## 3.1. Feature Creation"
   ]
  },
  {
   "cell_type": "code",
   "execution_count": 24,
   "id": "8a45093b",
   "metadata": {
    "ExecuteTime": {
     "end_time": "2023-08-22T11:43:09.848167Z",
     "start_time": "2023-08-22T11:43:09.834409Z"
    }
   },
   "outputs": [],
   "source": [
    "# data reference\n",
    "df_ref = df2.drop(['invoice_no', 'stock_code', 'quantity', 'invoice_date', 'unit_price', 'country'], axis=1).drop_duplicates( ignore_index=True )"
   ]
  },
  {
   "cell_type": "code",
   "execution_count": 25,
   "id": "2fdd6989",
   "metadata": {
    "ExecuteTime": {
     "end_time": "2023-08-22T11:43:10.519339Z",
     "start_time": "2023-08-22T11:43:10.514747Z"
    }
   },
   "outputs": [
    {
     "data": {
      "text/plain": [
       "(5786, 1)"
      ]
     },
     "execution_count": 25,
     "metadata": {},
     "output_type": "execute_result"
    }
   ],
   "source": [
    "df_ref.shape"
   ]
  },
  {
   "cell_type": "markdown",
   "id": "31879cc3",
   "metadata": {},
   "source": [
    "### 3.1.1. Gross Revenue"
   ]
  },
  {
   "cell_type": "code",
   "execution_count": 26,
   "id": "2b1af47b",
   "metadata": {
    "ExecuteTime": {
     "end_time": "2023-08-22T11:43:11.829279Z",
     "start_time": "2023-08-22T11:43:11.788650Z"
    }
   },
   "outputs": [
    {
     "data": {
      "text/plain": [
       "customer_id       0\n",
       "gross_revenue    91\n",
       "dtype: int64"
      ]
     },
     "execution_count": 26,
     "metadata": {},
     "output_type": "execute_result"
    }
   ],
   "source": [
    "# Gross Revenue ( Faturamento ) quantity * price\n",
    "df2_purchase.loc[:, 'gross_revenue'] = df2_purchase.loc[:, 'quantity'] * df2_purchase.loc[:, 'unit_price']\n",
    "\n",
    "# Monetary\n",
    "df_monetary = df2_purchase[['customer_id', 'gross_revenue']].groupby( 'customer_id').sum().reset_index()\n",
    "df_ref = pd.merge( df_ref, df_monetary, on='customer_id', how='left' )\n",
    "df_ref.isna().sum()"
   ]
  },
  {
   "cell_type": "markdown",
   "id": "832cf079",
   "metadata": {},
   "source": [
    "### 3.1.2. Recency - Day from last purchase"
   ]
  },
  {
   "cell_type": "code",
   "execution_count": 27,
   "id": "4269029c",
   "metadata": {
    "ExecuteTime": {
     "end_time": "2023-08-22T11:43:13.500582Z",
     "start_time": "2023-08-22T11:43:13.461820Z"
    }
   },
   "outputs": [
    {
     "data": {
      "text/plain": [
       "customer_id       0\n",
       "gross_revenue    91\n",
       "recency_days     91\n",
       "dtype: int64"
      ]
     },
     "execution_count": 27,
     "metadata": {},
     "output_type": "execute_result"
    }
   ],
   "source": [
    "# Recency - Last day purchase\n",
    "df_recency = df2_purchase[['customer_id', 'invoice_date']].groupby( 'customer_id' ).max().reset_index()\n",
    "df_recency['recency_days'] = (df2_purchase['invoice_date'].max() - df_recency['invoice_date']).dt.days\n",
    "df_recency = df_recency[['customer_id', 'recency_days']].copy()\n",
    "df_ref = pd.merge( df_ref, df_recency, on='customer_id', how='left' )\n",
    "df_ref.isna().sum()"
   ]
  },
  {
   "cell_type": "markdown",
   "id": "7ba79db1",
   "metadata": {},
   "source": [
    "### 3.1.5 Quantity of products purchased"
   ]
  },
  {
   "cell_type": "code",
   "execution_count": 28,
   "id": "e22b7935",
   "metadata": {
    "ExecuteTime": {
     "end_time": "2023-08-22T11:43:14.922211Z",
     "start_time": "2023-08-22T11:43:14.804972Z"
    }
   },
   "outputs": [
    {
     "data": {
      "text/plain": [
       "customer_id       0\n",
       "gross_revenue    91\n",
       "recency_days     91\n",
       "qtde_products    91\n",
       "dtype: int64"
      ]
     },
     "execution_count": 28,
     "metadata": {},
     "output_type": "execute_result"
    }
   ],
   "source": [
    "# Número de produtos \n",
    "df_freq = ( df2_purchase.loc[:, ['customer_id', 'stock_code']].groupby( 'customer_id' ).count()\n",
    "                                                              .reset_index()\n",
    "                                                              .rename( columns={'stock_code': 'qtde_products'}) )\n",
    "df_ref = pd.merge( df_ref, df_freq, on='customer_id', how='left' )\n",
    "df_ref.isna().sum()"
   ]
  },
  {
   "cell_type": "markdown",
   "id": "e6fdbc1f",
   "metadata": {},
   "source": [
    "### 3.1.7. Frequency Purchase"
   ]
  },
  {
   "cell_type": "code",
   "execution_count": 29,
   "id": "fa6ca551",
   "metadata": {
    "ExecuteTime": {
     "end_time": "2023-08-22T11:43:17.959156Z",
     "start_time": "2023-08-22T11:43:16.484686Z"
    }
   },
   "outputs": [
    {
     "data": {
      "text/plain": [
       "customer_id       0\n",
       "gross_revenue    91\n",
       "recency_days     91\n",
       "qtde_products    91\n",
       "frequency        91\n",
       "dtype: int64"
      ]
     },
     "execution_count": 29,
     "metadata": {},
     "output_type": "execute_result"
    }
   ],
   "source": [
    "df_aux = ( df2_purchase[['customer_id', 'invoice_no', 'invoice_date']].drop_duplicates()\n",
    "                                                             .groupby('customer_id')\n",
    "                                                             .agg( max_ = ('invoice_date', 'max'),\n",
    "                                                                   min_ = ('invoice_date', 'min'),\n",
    "                                                                   days_ = ('invoice_date', lambda x: (( x.max() - x.min() ).days) + 1),\n",
    "                                                                   buy_ = ('invoice_no', 'count') ) ).reset_index()\n",
    "\n",
    "# Frequency\n",
    "df_aux['frequency'] = df_aux[['buy_', 'days_']].apply( lambda x: x['buy_'] / x['days_'] if x['days_'] != 0 else 0, axis=1 )\n",
    "\n",
    "# merge\n",
    "df_ref = pd.merge( df_ref, df_aux[['customer_id', 'frequency']], on='customer_id', how='left' )\n",
    "df_ref.isna().sum()"
   ]
  },
  {
   "cell_type": "markdown",
   "id": "e2ea44e2",
   "metadata": {},
   "source": [
    "### 3.1.8. Number of Returns"
   ]
  },
  {
   "cell_type": "code",
   "execution_count": 30,
   "id": "4aa062ed",
   "metadata": {
    "ExecuteTime": {
     "end_time": "2023-08-22T11:43:19.231730Z",
     "start_time": "2023-08-22T11:43:19.213542Z"
    }
   },
   "outputs": [
    {
     "data": {
      "text/plain": [
       "customer_id       0\n",
       "gross_revenue    91\n",
       "recency_days     91\n",
       "qtde_products    91\n",
       "frequency        91\n",
       "qtde_returns      0\n",
       "dtype: int64"
      ]
     },
     "execution_count": 30,
     "metadata": {},
     "output_type": "execute_result"
    }
   ],
   "source": [
    "# Number of Returns\n",
    "df_returns = df2_returns[['customer_id', 'quantity']].groupby( 'customer_id' ).sum().reset_index().rename( columns={'quantity': 'qtde_returns'} )\n",
    "df_returns['qtde_returns'] = df_returns['qtde_returns'] * -1\n",
    "\n",
    "df_ref = pd.merge( df_ref, df_returns, how='left', on='customer_id' )\n",
    "df_ref.loc[df_ref['qtde_returns'].isna(), 'qtde_returns'] = 0 \n",
    "\n",
    "df_ref.isna().sum()"
   ]
  },
  {
   "cell_type": "markdown",
   "id": "eaa900c2",
   "metadata": {},
   "source": [
    "# <div style=\"color:red;display:fill;border-radius:15px;background-color:#5d6d7e;letter-spacing:0.2px;overflow:hidden\"><p style=\"padding:10px;color:white;overflow:hidden;text-align: center;margin:0;font-size:100%\">4.0. EDA (Exploratory Data Analysis)</p></div>   "
   ]
  },
  {
   "cell_type": "code",
   "execution_count": 31,
   "id": "4a196b07",
   "metadata": {
    "ExecuteTime": {
     "end_time": "2023-08-22T11:43:22.378417Z",
     "start_time": "2023-08-22T11:43:22.373261Z"
    }
   },
   "outputs": [],
   "source": [
    "df4 = df_ref.dropna().copy()"
   ]
  },
  {
   "cell_type": "code",
   "execution_count": 32,
   "id": "8cf00f8c",
   "metadata": {
    "ExecuteTime": {
     "end_time": "2023-08-22T11:43:23.378388Z",
     "start_time": "2023-08-22T11:43:23.372624Z"
    }
   },
   "outputs": [
    {
     "data": {
      "text/plain": [
       "5695"
      ]
     },
     "execution_count": 32,
     "metadata": {},
     "output_type": "execute_result"
    }
   ],
   "source": [
    "len(df4['customer_id'].unique())"
   ]
  },
  {
   "cell_type": "markdown",
   "id": "16a102c2",
   "metadata": {},
   "source": [
    "## 4.3. Estudo do Espaço"
   ]
  },
  {
   "cell_type": "code",
   "execution_count": 33,
   "id": "a6375bdb",
   "metadata": {
    "ExecuteTime": {
     "end_time": "2023-08-22T11:43:26.976697Z",
     "start_time": "2023-08-22T11:43:26.971706Z"
    }
   },
   "outputs": [],
   "source": [
    "# selected dataset\n",
    "cols_selected = ['customer_id', 'gross_revenue', 'recency_days', 'qtde_products', 'frequency', 'qtde_returns']\n",
    "df43 = df4[cols_selected].drop( columns='customer_id', axis=1 )"
   ]
  },
  {
   "cell_type": "code",
   "execution_count": 34,
   "id": "6f71b79a",
   "metadata": {
    "ExecuteTime": {
     "end_time": "2023-08-22T11:43:29.547889Z",
     "start_time": "2023-08-22T11:43:29.526136Z"
    }
   },
   "outputs": [],
   "source": [
    "mm = pp.MinMaxScaler()\n",
    "fs = s3fs.S3FileSystem( anon=False, key=AWS_ACCESS_KEY_ID, secret=AWS_SECRET_ACCESS_KEY )\n",
    "\n",
    "#gross_revenue_scaler = pickle.load( open( '../features/gross_revenue_scaler.pkl', 'rb' ) )\n",
    "gross_revenue_scaler = pickle.load( fs.open( 's3://insidersdatasetlgm/gross_revenue_scaler.pkl', 'rb' ) )\n",
    "df43['gross_revenue'] = gross_revenue_scaler.transform( df43[['gross_revenue']] )\n",
    "\n",
    "#recency_days_scaler = pickle.load( open( '../features/recency_days_scaler.pkl', 'rb' ) )\n",
    "recency_days_scaler = pickle.load( fs.open( 's3://insidersdatasetlgm/recency_days_scaler.pkl', 'rb' ) )\n",
    "df43['recency_days'] = recency_days_scaler.transform( df43[['recency_days']] )\n",
    "\n",
    "#qtde_products_scaler = pickle.load( open( '../features/qtde_products_scaler.pkl', 'rb' ) )\n",
    "qtde_products_scaler = pickle.load( fs.open( 's3://insidersdatasetlgm/qtde_products_scaler.pkl', 'rb' ) )\n",
    "df43['qtde_products'] = qtde_products_scaler.transform( df43[['qtde_products']] )\n",
    "\n",
    "#frequency_scaler = pickle.load( open( '../features/frequency_scaler.pkl', 'rb' ) )\n",
    "frequency_scaler = pickle.load( fs.open( 's3://insidersdatasetlgm/frequency_scaler.pkl', 'rb' ) )\n",
    "df43['frequency'] = frequency_scaler.transform( df43[['frequency']] )\n",
    "\n",
    "#qtde_returns_scaler = pickle.load( open( '../features/qtde_returns_scaler.pkl', 'rb' ) )\n",
    "qtde_returns_scaler = pickle.load( fs.open( 's3://insidersdatasetlgm/qtde_returns_scaler.pkl', 'rb' ) )\n",
    "df43['qtde_returns'] = qtde_returns_scaler.transform( df43[['qtde_returns']] )"
   ]
  },
  {
   "cell_type": "markdown",
   "id": "9ca71b12",
   "metadata": {},
   "source": [
    "### 4.3.3. Tree-Based Embedding"
   ]
  },
  {
   "cell_type": "code",
   "execution_count": 35,
   "id": "de067d26",
   "metadata": {
    "ExecuteTime": {
     "end_time": "2023-08-22T11:44:00.795111Z",
     "start_time": "2023-08-22T11:43:55.860962Z"
    }
   },
   "outputs": [],
   "source": [
    "# training dataset\n",
    "X = df43.drop( columns=['gross_revenue'], axis=1 )\n",
    "y = df43['gross_revenue']\n",
    "\n",
    "## model definition\n",
    "#rf_model = en.RandomForestRegressor( n_estimators=100, random_state=42 )\n",
    "#\n",
    "## model training\n",
    "#rf_model.fit( X, y )\n",
    "\n",
    "#rf_model = pickle.load( open( '../models/rf_model.pkl', 'rb' ) )\n",
    "rf_model = pickle.load( fs.open( 's3://insidersdatasetlgm/rf_model.pkl', 'rb' ) )\n",
    "\n",
    "# leaf\n",
    "df_leaf = pd.DataFrame( rf_model.apply( X ) )"
   ]
  },
  {
   "cell_type": "code",
   "execution_count": 36,
   "id": "94d613c2",
   "metadata": {
    "ExecuteTime": {
     "end_time": "2023-08-22T11:44:36.574945Z",
     "start_time": "2023-08-22T11:44:04.230007Z"
    }
   },
   "outputs": [
    {
     "data": {
      "text/plain": [
       "<Axes: xlabel='embedding_x', ylabel='embedding_y'>"
      ]
     },
     "execution_count": 36,
     "metadata": {},
     "output_type": "execute_result"
    },
    {
     "data": {
      "image/png": "[encoded data removed]",
      "text/plain": [
       "<Figure size 640x480 with 1 Axes>"
      ]
     },
     "metadata": {},
     "output_type": "display_data"
    }
   ],
   "source": [
    "# reduzer dimensionality\n",
    "#reducer = umap.UMAP( random_state=42 )\n",
    "#embedding = reducer.fit_transform( df_leaf )\n",
    "\n",
    "#reducer = pickle.load( open( '../features/umap_reducer.pkl', 'rb' ) )\n",
    "reducer = pickle.load( fs.open( 's3://insidersdatasetlgm/umap_reducer.pkl', 'rb' ) )\n",
    "embedding = reducer.transform( df_leaf )\n",
    "\n",
    "# embedding\n",
    "df_tree = pd.DataFrame()\n",
    "df_tree['embedding_x'] = embedding[:, 0]\n",
    "df_tree['embedding_y'] = embedding[:, 1]\n",
    "\n",
    "# plot UMAP\n",
    "sns.scatterplot( x='embedding_x',\n",
    "                 y='embedding_y', \n",
    "                 data=df_tree )"
   ]
  },
  {
   "cell_type": "markdown",
   "id": "48779ce3",
   "metadata": {},
   "source": [
    "# <div style=\"color:red;display:fill;border-radius:15px;background-color:#5d6d7e;letter-spacing:0.2px;overflow:hidden\"><p style=\"padding:10px;color:white;overflow:hidden;text-align: center;margin:0;font-size:100%\">5.0. Data Preparation</p></div>      "
   ]
  },
  {
   "cell_type": "code",
   "execution_count": 37,
   "id": "e3846a22",
   "metadata": {
    "ExecuteTime": {
     "end_time": "2023-08-22T11:47:34.040340Z",
     "start_time": "2023-08-22T11:47:34.015062Z"
    }
   },
   "outputs": [],
   "source": [
    "df5 = df_tree.copy()\n",
    "#df5.to_csv( '../src/data/tree_based_embedding.csv', index=False ) "
   ]
  },
  {
   "cell_type": "markdown",
   "id": "b852b166",
   "metadata": {},
   "source": [
    "# <div style=\"color:red;display:fill;border-radius:15px;background-color:#5d6d7e;letter-spacing:0.2px;overflow:hidden\"><p style=\"padding:10px;color:white;overflow:hidden;text-align: center;margin:0;font-size:100%\">7.0. Hiperparameter Fine-Tunning</p></div>      "
   ]
  },
  {
   "cell_type": "code",
   "execution_count": 38,
   "id": "929cdfbb",
   "metadata": {
    "ExecuteTime": {
     "end_time": "2023-08-22T11:48:12.211011Z",
     "start_time": "2023-08-22T11:48:12.206900Z"
    }
   },
   "outputs": [],
   "source": [
    "X = df5.copy()"
   ]
  },
  {
   "cell_type": "code",
   "execution_count": 39,
   "id": "8d637dee",
   "metadata": {
    "ExecuteTime": {
     "end_time": "2023-08-22T11:48:12.951223Z",
     "start_time": "2023-08-22T11:48:12.943575Z"
    }
   },
   "outputs": [
    {
     "data": {
      "text/html": [
       "<div>\n",
       "<style scoped>\n",
       "    .dataframe tbody tr th:only-of-type {\n",
       "        vertical-align: middle;\n",
       "    }\n",
       "\n",
       "    .dataframe tbody tr th {\n",
       "        vertical-align: top;\n",
       "    }\n",
       "\n",
       "    .dataframe thead th {\n",
       "        text-align: right;\n",
       "    }\n",
       "</style>\n",
       "<table border=\"1\" class=\"dataframe\">\n",
       "  <thead>\n",
       "    <tr style=\"text-align: right;\">\n",
       "      <th></th>\n",
       "      <th>embedding_x</th>\n",
       "      <th>embedding_y</th>\n",
       "    </tr>\n",
       "  </thead>\n",
       "  <tbody>\n",
       "    <tr>\n",
       "      <th>0</th>\n",
       "      <td>9.100326</td>\n",
       "      <td>-7.936187</td>\n",
       "    </tr>\n",
       "    <tr>\n",
       "      <th>1</th>\n",
       "      <td>10.280245</td>\n",
       "      <td>-5.373515</td>\n",
       "    </tr>\n",
       "    <tr>\n",
       "      <th>2</th>\n",
       "      <td>10.197146</td>\n",
       "      <td>-6.888188</td>\n",
       "    </tr>\n",
       "    <tr>\n",
       "      <th>3</th>\n",
       "      <td>18.505709</td>\n",
       "      <td>14.952629</td>\n",
       "    </tr>\n",
       "    <tr>\n",
       "      <th>4</th>\n",
       "      <td>22.483515</td>\n",
       "      <td>6.664168</td>\n",
       "    </tr>\n",
       "  </tbody>\n",
       "</table>\n",
       "</div>"
      ],
      "text/plain": [
       "   embedding_x  embedding_y\n",
       "0     9.100326    -7.936187\n",
       "1    10.280245    -5.373515\n",
       "2    10.197146    -6.888188\n",
       "3    18.505709    14.952629\n",
       "4    22.483515     6.664168"
      ]
     },
     "execution_count": 39,
     "metadata": {},
     "output_type": "execute_result"
    }
   ],
   "source": [
    "X.head()"
   ]
  },
  {
   "cell_type": "markdown",
   "id": "721ea94b",
   "metadata": {},
   "source": [
    "# <div style=\"color:red;display:fill;border-radius:15px;background-color:#5d6d7e;letter-spacing:0.2px;overflow:hidden\"><p style=\"padding:10px;color:white;overflow:hidden;text-align: center;margin:0;font-size:100%\">8.0. Model Training</p></div>       "
   ]
  },
  {
   "cell_type": "markdown",
   "id": "1f6c3875",
   "metadata": {},
   "source": [
    "## 8.1. K-Means"
   ]
  },
  {
   "cell_type": "code",
   "execution_count": 40,
   "id": "9c1d5280",
   "metadata": {
    "ExecuteTime": {
     "end_time": "2023-08-22T11:48:20.666769Z",
     "start_time": "2023-08-22T11:48:18.031130Z"
    }
   },
   "outputs": [],
   "source": [
    "# model definition\n",
    "k = 8\n",
    "kmeans = c.KMeans( init='random', n_clusters=k, n_init=100, max_iter=300, random_state=42 )\n",
    "\n",
    "# model training\n",
    "kmeans.fit( X )\n",
    "\n",
    "# clustering \n",
    "labels = kmeans.labels_"
   ]
  },
  {
   "cell_type": "markdown",
   "id": "03932e2e",
   "metadata": {},
   "source": [
    "## 8.2. Cluster Validation"
   ]
  },
  {
   "cell_type": "code",
   "execution_count": 41,
   "id": "b620e0f7",
   "metadata": {
    "ExecuteTime": {
     "end_time": "2023-08-22T11:48:22.861754Z",
     "start_time": "2023-08-22T11:48:22.398637Z"
    }
   },
   "outputs": [
    {
     "name": "stdout",
     "output_type": "stream",
     "text": [
      "WSS value: 109636.90625\n"
     ]
    },
    {
     "name": "stdout",
     "output_type": "stream",
     "text": [
      "SS value: 0.45507267117500305\n"
     ]
    }
   ],
   "source": [
    "## WSS ( Within-Cluster Sum of Square )\n",
    "print( 'WSS value: {}'.format(kmeans.inertia_ ) )\n",
    "\n",
    "## SS ( Silhouette Score )\n",
    "print( 'SS value: {}'.format( mt.silhouette_score( X, labels, metric='euclidean' ) ) )"
   ]
  },
  {
   "cell_type": "markdown",
   "id": "fc4cb7de",
   "metadata": {},
   "source": [
    "# <div style=\"color:red;display:fill;border-radius:15px;background-color:#5d6d7e;letter-spacing:0.2px;overflow:hidden\"><p style=\"padding:10px;color:white;overflow:hidden;text-align: center;margin:0;font-size:100%\">9.0. Cluster Analysis</p></div>        "
   ]
  },
  {
   "cell_type": "code",
   "execution_count": 42,
   "id": "45195190",
   "metadata": {
    "ExecuteTime": {
     "end_time": "2023-08-22T11:48:28.787508Z",
     "start_time": "2023-08-22T11:48:28.782715Z"
    }
   },
   "outputs": [],
   "source": [
    "df9 = X.copy()\n",
    "df9['cluster'] = labels"
   ]
  },
  {
   "cell_type": "code",
   "execution_count": 43,
   "id": "d0cc8ad9",
   "metadata": {
    "ExecuteTime": {
     "end_time": "2023-08-22T11:48:30.257853Z",
     "start_time": "2023-08-22T11:48:30.255204Z"
    }
   },
   "outputs": [],
   "source": [
    "#df92 = df4.copy()\n",
    "#df9['cluster'] = labels\n",
    "#df9.head()"
   ]
  },
  {
   "cell_type": "markdown",
   "id": "a91a9cc8",
   "metadata": {},
   "source": [
    "## 9.1. Visualization Inspection"
   ]
  },
  {
   "cell_type": "code",
   "execution_count": 44,
   "id": "05d51bf8",
   "metadata": {
    "ExecuteTime": {
     "end_time": "2023-08-22T11:48:32.617111Z",
     "start_time": "2023-08-22T11:48:31.686927Z"
    }
   },
   "outputs": [
    {
     "data": {
      "text/plain": [
       "<Axes: xlabel='embedding_x', ylabel='embedding_y'>"
      ]
     },
     "execution_count": 44,
     "metadata": {},
     "output_type": "execute_result"
    },
    {
     "data": {
      "image/png": "[encoded data removed]",
      "text/plain": [
       "<Figure size 640x480 with 1 Axes>"
      ]
     },
     "metadata": {},
     "output_type": "display_data"
    }
   ],
   "source": [
    "sns.scatterplot( x='embedding_x', y='embedding_y', data=df9, hue='cluster', palette='deep')"
   ]
  },
  {
   "cell_type": "markdown",
   "id": "768d5bf2",
   "metadata": {},
   "source": [
    "## 9.2. Cluster Profile"
   ]
  },
  {
   "cell_type": "code",
   "execution_count": 45,
   "id": "0542ab02",
   "metadata": {
    "ExecuteTime": {
     "end_time": "2023-08-22T11:48:54.991916Z",
     "start_time": "2023-08-22T11:48:54.982884Z"
    }
   },
   "outputs": [],
   "source": [
    "df92 = df4[cols_selected].copy()\n",
    "df92['cluster'] = labels\n",
    "df92.head()\n",
    "\n",
    "# change dtypes\n",
    "df92['recency_days'] = df92['recency_days'].astype( 'int64')\n",
    "df92['qtde_products'] = df92['qtde_products'].astype( 'int64')\n",
    "df92['qtde_returns'] = df92['qtde_returns'].astype( 'int64')"
   ]
  },
  {
   "cell_type": "code",
   "execution_count": 46,
   "id": "65f3463b",
   "metadata": {
    "ExecuteTime": {
     "end_time": "2023-08-22T11:48:56.354716Z",
     "start_time": "2023-08-22T11:48:56.311902Z"
    }
   },
   "outputs": [
    {
     "data": {
      "text/html": [
       "<div>\n",
       "<style scoped>\n",
       "    .dataframe tbody tr th:only-of-type {\n",
       "        vertical-align: middle;\n",
       "    }\n",
       "\n",
       "    .dataframe tbody tr th {\n",
       "        vertical-align: top;\n",
       "    }\n",
       "\n",
       "    .dataframe thead th {\n",
       "        text-align: right;\n",
       "    }\n",
       "</style>\n",
       "<table border=\"1\" class=\"dataframe\">\n",
       "  <thead>\n",
       "    <tr style=\"text-align: right;\">\n",
       "      <th></th>\n",
       "      <th>cluster</th>\n",
       "      <th>customer_id</th>\n",
       "      <th>perc_customer</th>\n",
       "      <th>gross_revenue</th>\n",
       "      <th>recency_days</th>\n",
       "      <th>qtde_products</th>\n",
       "      <th>frequency</th>\n",
       "      <th>qtde_returns</th>\n",
       "    </tr>\n",
       "  </thead>\n",
       "  <tbody>\n",
       "    <tr>\n",
       "      <th>0</th>\n",
       "      <td>0</td>\n",
       "      <td>761</td>\n",
       "      <td>13.362599</td>\n",
       "      <td>7305.020683</td>\n",
       "      <td>57.678055</td>\n",
       "      <td>350.819974</td>\n",
       "      <td>0.291262</td>\n",
       "      <td>204.440210</td>\n",
       "    </tr>\n",
       "    <tr>\n",
       "      <th>5</th>\n",
       "      <td>5</td>\n",
       "      <td>734</td>\n",
       "      <td>12.888499</td>\n",
       "      <td>2077.506049</td>\n",
       "      <td>110.404632</td>\n",
       "      <td>158.164850</td>\n",
       "      <td>0.487801</td>\n",
       "      <td>0.681199</td>\n",
       "    </tr>\n",
       "    <tr>\n",
       "      <th>7</th>\n",
       "      <td>7</td>\n",
       "      <td>1035</td>\n",
       "      <td>18.173837</td>\n",
       "      <td>1365.309256</td>\n",
       "      <td>105.845411</td>\n",
       "      <td>74.311111</td>\n",
       "      <td>0.530281</td>\n",
       "      <td>6.575845</td>\n",
       "    </tr>\n",
       "    <tr>\n",
       "      <th>1</th>\n",
       "      <td>1</td>\n",
       "      <td>629</td>\n",
       "      <td>11.044776</td>\n",
       "      <td>708.507472</td>\n",
       "      <td>148.189189</td>\n",
       "      <td>31.848967</td>\n",
       "      <td>0.437934</td>\n",
       "      <td>5.985692</td>\n",
       "    </tr>\n",
       "    <tr>\n",
       "      <th>4</th>\n",
       "      <td>4</td>\n",
       "      <td>635</td>\n",
       "      <td>11.150132</td>\n",
       "      <td>701.017181</td>\n",
       "      <td>110.623622</td>\n",
       "      <td>34.206299</td>\n",
       "      <td>0.594508</td>\n",
       "      <td>4.335433</td>\n",
       "    </tr>\n",
       "    <tr>\n",
       "      <th>2</th>\n",
       "      <td>2</td>\n",
       "      <td>500</td>\n",
       "      <td>8.779631</td>\n",
       "      <td>557.608580</td>\n",
       "      <td>106.548000</td>\n",
       "      <td>12.486000</td>\n",
       "      <td>0.181173</td>\n",
       "      <td>5.170000</td>\n",
       "    </tr>\n",
       "    <tr>\n",
       "      <th>6</th>\n",
       "      <td>6</td>\n",
       "      <td>426</td>\n",
       "      <td>7.480246</td>\n",
       "      <td>404.508779</td>\n",
       "      <td>105.732394</td>\n",
       "      <td>12.187793</td>\n",
       "      <td>0.611501</td>\n",
       "      <td>4.110329</td>\n",
       "    </tr>\n",
       "    <tr>\n",
       "      <th>3</th>\n",
       "      <td>3</td>\n",
       "      <td>975</td>\n",
       "      <td>17.120281</td>\n",
       "      <td>272.089179</td>\n",
       "      <td>174.003077</td>\n",
       "      <td>14.540513</td>\n",
       "      <td>1.009477</td>\n",
       "      <td>4.445128</td>\n",
       "    </tr>\n",
       "  </tbody>\n",
       "</table>\n",
       "</div>"
      ],
      "text/plain": [
       "   cluster  customer_id  perc_customer  gross_revenue  recency_days  \\\n",
       "0        0          761      13.362599    7305.020683     57.678055   \n",
       "5        5          734      12.888499    2077.506049    110.404632   \n",
       "7        7         1035      18.173837    1365.309256    105.845411   \n",
       "1        1          629      11.044776     708.507472    148.189189   \n",
       "4        4          635      11.150132     701.017181    110.623622   \n",
       "2        2          500       8.779631     557.608580    106.548000   \n",
       "6        6          426       7.480246     404.508779    105.732394   \n",
       "3        3          975      17.120281     272.089179    174.003077   \n",
       "\n",
       "   qtde_products  frequency  qtde_returns  \n",
       "0     350.819974   0.291262    204.440210  \n",
       "5     158.164850   0.487801      0.681199  \n",
       "7      74.311111   0.530281      6.575845  \n",
       "1      31.848967   0.437934      5.985692  \n",
       "4      34.206299   0.594508      4.335433  \n",
       "2      12.486000   0.181173      5.170000  \n",
       "6      12.187793   0.611501      4.110329  \n",
       "3      14.540513   1.009477      4.445128  "
      ]
     },
     "execution_count": 46,
     "metadata": {},
     "output_type": "execute_result"
    }
   ],
   "source": [
    "# Number of customer\n",
    "df_cluster = df92[['customer_id', 'cluster']].groupby( 'cluster' ).count().reset_index()\n",
    "df_cluster['perc_customer'] = 100*( df_cluster['customer_id'] / df_cluster['customer_id'].sum() )\n",
    "\n",
    "# Avg Gross revenue\n",
    "df_avg_gross_revenue = df92[['gross_revenue', 'cluster']].groupby('cluster').mean().reset_index()\n",
    "df_cluster = pd.merge( df_cluster, df_avg_gross_revenue, how='inner', on='cluster' )\n",
    "\n",
    "# Avg recency days\n",
    "df_avg_recency_days = df92[['recency_days', 'cluster']].groupby('cluster').mean().reset_index()\n",
    "df_cluster = pd.merge( df_cluster, df_avg_recency_days, how='inner', on='cluster')\n",
    "\n",
    "# Avg invoice_no\n",
    "df_qtde_products = df92[['qtde_products', 'cluster']].groupby('cluster').mean().reset_index()\n",
    "df_cluster = pd.merge( df_cluster, df_qtde_products, how='inner', on='cluster' )\n",
    "\n",
    "# Frequency\n",
    "df_frequency = df92[['frequency', 'cluster']].groupby('cluster').mean().reset_index()\n",
    "df_cluster = pd.merge( df_cluster, df_frequency, how='inner', on='cluster' )\n",
    "\n",
    "# Returns\n",
    "df_qtde_returns = df92[['qtde_returns', 'cluster']].groupby('cluster').mean().reset_index()\n",
    "df_cluster = pd.merge( df_cluster, df_qtde_returns, how='inner', on='cluster' )\n",
    "\n",
    "df_cluster.sort_values('gross_revenue', ascending=False)"
   ]
  },
  {
   "cell_type": "markdown",
   "id": "79eb6546",
   "metadata": {},
   "source": [
    "- 0 Cluster Insiders\n",
    "- 5 Cluster Loyals\n",
    "- 7 Cluster More Products\n",
    "- 1 Cluster More Frequency\n",
    "- 4 Cluster Need Attention\n",
    "- 2 Cluster At Risk\n",
    "- 6 Cluster Hibernating\n",
    "- 3 Cluster More Buy"
   ]
  },
  {
   "cell_type": "code",
   "execution_count": 47,
   "id": "085be500",
   "metadata": {},
   "outputs": [
    {
     "name": "stdout",
     "output_type": "stream",
     "text": [
      " Cluster 0:\n",
      "    -Número de Customers: 761 (13%)\n",
      "    -Faturamento Médio: $7305\n",
      "    -Recencia Média: 58 \n",
      "    -Média de Produtos Comprados: 351  \n",
      "    -Frequência do Produtos comprados/mês: 8.7 \n",
      "    -Média de Produtos Devolvidos: 204 \n",
      " Cluster 5:\n",
      "    -Número de Customers: 734 (13%)\n",
      "    -Faturamento Médio: $2078\n",
      "    -Recencia Média: 110 \n",
      "    -Média de Produtos Comprados: 158  \n",
      "    -Frequência do Produtos comprados/mês: 14.6 \n",
      "    -Média de Produtos Devolvidos: 1 \n",
      " Cluster 7:\n",
      "    -Número de Customers: 1035 (18%)\n",
      "    -Faturamento Médio: $1365\n",
      "    -Recencia Média: 106 \n",
      "    -Média de Produtos Comprados: 74  \n",
      "    -Frequência do Produtos comprados/mês: 15.9 \n",
      "    -Média de Produtos Devolvidos: 7 \n",
      " Cluster 1:\n",
      "    -Número de Customers: 629 (11%)\n",
      "    -Faturamento Médio: $709\n",
      "    -Recencia Média: 148 \n",
      "    -Média de Produtos Comprados: 32  \n",
      "    -Frequência do Produtos comprados/mês: 13.1 \n",
      "    -Média de Produtos Devolvidos: 6 \n",
      " Cluster 4:\n",
      "    -Número de Customers: 635 (11%)\n",
      "    -Faturamento Médio: $701\n",
      "    -Recencia Média: 111 \n",
      "    -Média de Produtos Comprados: 34  \n",
      "    -Frequência do Produtos comprados/mês: 17.8 \n",
      "    -Média de Produtos Devolvidos: 4 \n",
      " Cluster 2:\n",
      "    -Número de Customers: 500 (9%)\n",
      "    -Faturamento Médio: $558\n",
      "    -Recencia Média: 107 \n",
      "    -Média de Produtos Comprados: 12  \n",
      "    -Frequência do Produtos comprados/mês: 5.4 \n",
      "    -Média de Produtos Devolvidos: 5 \n",
      " Cluster 6:\n",
      "    -Número de Customers: 426 (7%)\n",
      "    -Faturamento Médio: $405\n",
      "    -Recencia Média: 106 \n",
      "    -Média de Produtos Comprados: 12  \n",
      "    -Frequência do Produtos comprados/mês: 18.3 \n",
      "    -Média de Produtos Devolvidos: 4 \n",
      " Cluster 3:\n",
      "    -Número de Customers: 975 (17%)\n",
      "    -Faturamento Médio: $272\n",
      "    -Recencia Média: 174 \n",
      "    -Média de Produtos Comprados: 15  \n",
      "    -Frequência do Produtos comprados/mês: 30.3 \n",
      "    -Média de Produtos Devolvidos: 4 \n"
     ]
    }
   ],
   "source": [
    "clusters_list = [0, 5, 7, 1, 4, 2, 6, 3]\n",
    "for i in clusters_list:\n",
    "    print(f\"\"\" Cluster {df_cluster['cluster'][i]}:\n",
    "    -Número de Customers: {df_cluster['customer_id'][i]} ({round(df_cluster['perc_customer'][i])}%)\n",
    "    -Faturamento Médio: ${round(df_cluster['gross_revenue'][i])}\n",
    "    -Recencia Média: {round(df_cluster['recency_days'][i])} \n",
    "    -Média de Produtos Comprados: {round(df_cluster['qtde_products'][i])}  \n",
    "    -Frequência do Produtos comprados/mês: {round((df_cluster['frequency'][i])*30 ,1)} \n",
    "    -Média de Produtos Devolvidos: {round(df_cluster['qtde_returns'][i])} \"\"\")"
   ]
  },
  {
   "cell_type": "markdown",
   "id": "dd04cff9",
   "metadata": {},
   "source": [
    "### Cluster 01: (Candidato à Insider)\n",
    "    - Número de Customers: 761 (13%)\n",
    "    - Faturamento Médio: $7305\n",
    "    - Recencia Média: 58 \n",
    "    - Média de Produtos Comprados: 351  \n",
    "    - Frequência do Produtos comprados/mês: 8.7 \n",
    "    - Média de Produtos Devolvidos: 204"
   ]
  },
  {
   "cell_type": "code",
   "execution_count": null,
   "id": "517d9554",
   "metadata": {},
   "outputs": [],
   "source": []
  },
  {
   "cell_type": "markdown",
   "id": "68607885",
   "metadata": {
    "ExecuteTime": {
     "end_time": "2023-08-14T14:32:14.057924Z",
     "start_time": "2023-08-14T14:32:14.054744Z"
    },
    "heading_collapsed": true
   },
   "source": [
    "# <div style=\"color:red;display:fill;border-radius:15px;background-color:#5d6d7e;letter-spacing:0.2px;overflow:hidden\"><p style=\"padding:10px;color:white;overflow:hidden;text-align: center;margin:0;font-size:100%\">10.0. Análise Exploratória de Dados</p></div>         "
   ]
  },
  {
   "cell_type": "code",
   "execution_count": 48,
   "id": "95c80102",
   "metadata": {
    "ExecuteTime": {
     "end_time": "2023-08-16T21:15:40.964040Z",
     "start_time": "2023-08-16T21:15:40.959660Z"
    },
    "hidden": true
   },
   "outputs": [],
   "source": [
    "df10 = df92.copy()"
   ]
  },
  {
   "cell_type": "code",
   "execution_count": 49,
   "id": "752b548d",
   "metadata": {
    "ExecuteTime": {
     "end_time": "2023-08-16T21:15:41.855382Z",
     "start_time": "2023-08-16T21:15:41.841667Z"
    },
    "hidden": true
   },
   "outputs": [
    {
     "data": {
      "text/html": [
       "<div>\n",
       "<style scoped>\n",
       "    .dataframe tbody tr th:only-of-type {\n",
       "        vertical-align: middle;\n",
       "    }\n",
       "\n",
       "    .dataframe tbody tr th {\n",
       "        vertical-align: top;\n",
       "    }\n",
       "\n",
       "    .dataframe thead th {\n",
       "        text-align: right;\n",
       "    }\n",
       "</style>\n",
       "<table border=\"1\" class=\"dataframe\">\n",
       "  <thead>\n",
       "    <tr style=\"text-align: right;\">\n",
       "      <th></th>\n",
       "      <th>customer_id</th>\n",
       "      <th>gross_revenue</th>\n",
       "      <th>recency_days</th>\n",
       "      <th>qtde_products</th>\n",
       "      <th>frequency</th>\n",
       "      <th>qtde_returns</th>\n",
       "      <th>cluster</th>\n",
       "    </tr>\n",
       "  </thead>\n",
       "  <tbody>\n",
       "    <tr>\n",
       "      <th>0</th>\n",
       "      <td>17850</td>\n",
       "      <td>5391.21</td>\n",
       "      <td>372</td>\n",
       "      <td>297</td>\n",
       "      <td>17.000000</td>\n",
       "      <td>40</td>\n",
       "      <td>0</td>\n",
       "    </tr>\n",
       "    <tr>\n",
       "      <th>1</th>\n",
       "      <td>13047</td>\n",
       "      <td>3232.59</td>\n",
       "      <td>56</td>\n",
       "      <td>171</td>\n",
       "      <td>0.028302</td>\n",
       "      <td>35</td>\n",
       "      <td>0</td>\n",
       "    </tr>\n",
       "    <tr>\n",
       "      <th>2</th>\n",
       "      <td>12583</td>\n",
       "      <td>6705.38</td>\n",
       "      <td>2</td>\n",
       "      <td>232</td>\n",
       "      <td>0.040323</td>\n",
       "      <td>50</td>\n",
       "      <td>0</td>\n",
       "    </tr>\n",
       "    <tr>\n",
       "      <th>3</th>\n",
       "      <td>13748</td>\n",
       "      <td>948.25</td>\n",
       "      <td>95</td>\n",
       "      <td>28</td>\n",
       "      <td>0.017921</td>\n",
       "      <td>0</td>\n",
       "      <td>6</td>\n",
       "    </tr>\n",
       "    <tr>\n",
       "      <th>4</th>\n",
       "      <td>15100</td>\n",
       "      <td>876.00</td>\n",
       "      <td>333</td>\n",
       "      <td>3</td>\n",
       "      <td>0.073171</td>\n",
       "      <td>22</td>\n",
       "      <td>2</td>\n",
       "    </tr>\n",
       "  </tbody>\n",
       "</table>\n",
       "</div>"
      ],
      "text/plain": [
       "   customer_id  gross_revenue  recency_days  qtde_products  frequency  \\\n",
       "0        17850        5391.21           372            297  17.000000   \n",
       "1        13047        3232.59            56            171   0.028302   \n",
       "2        12583        6705.38             2            232   0.040323   \n",
       "3        13748         948.25            95             28   0.017921   \n",
       "4        15100         876.00           333              3   0.073171   \n",
       "\n",
       "   qtde_returns  cluster  \n",
       "0            40        0  \n",
       "1            35        0  \n",
       "2            50        0  \n",
       "3             0        6  \n",
       "4            22        2  "
      ]
     },
     "execution_count": 49,
     "metadata": {},
     "output_type": "execute_result"
    }
   ],
   "source": [
    "df10.head()"
   ]
  },
  {
   "cell_type": "markdown",
   "id": "e0afd717",
   "metadata": {
    "hidden": true
   },
   "source": [
    "## 10.2. Hipóteses de Negócio"
   ]
  },
  {
   "cell_type": "code",
   "execution_count": 51,
   "id": "2452a44f",
   "metadata": {
    "hidden": true
   },
   "outputs": [
    {
     "ename": "SyntaxError",
     "evalue": "invalid syntax (2683413339.py, line 1)",
     "output_type": "error",
     "traceback": [
      "\u001b[0;36m  Cell \u001b[0;32mIn[51], line 1\u001b[0;36m\u001b[0m\n\u001b[0;31m    Cluster | Variável para testar | Base de Comparação\u001b[0m\n\u001b[0m                       ^\u001b[0m\n\u001b[0;31mSyntaxError\u001b[0m\u001b[0;31m:\u001b[0m invalid syntax\n"
     ]
    }
   ],
   "source": [
    "Cluster | Variável para testar | Base de Comparação"
   ]
  },
  {
   "cell_type": "markdown",
   "id": "ea13cc52",
   "metadata": {
    "ExecuteTime": {
     "end_time": "2023-08-15T12:28:17.770523Z",
     "start_time": "2023-08-15T12:28:17.767707Z"
    },
    "hidden": true
   },
   "source": [
    "### Hipótese Compra"
   ]
  },
  {
   "cell_type": "markdown",
   "id": "e81cd0fa",
   "metadata": {
    "hidden": true
   },
   "source": [
    "1. Os clientes do cluster insiders usam cartão de crédito em 80% das compras.\n",
    "2. Os clientes do cluster insiders possuem um ticket médio de 10% acima do cluster More Products\n",
    "3. Os clientes do cluster insiders possuem um basket size acima de 5 produtos.\n",
    "4. **Os clientes do cluster insiders possuem um volume (produtos) de compras acima de 10% do total de compras.**\n",
    "5. **Os clientes do cluster insiders possuem um volume (faturamento) de compras acima de 10% do total de compras.**\n",
    "6. **Os clientes do cluster insiders tem um número de devolução abaixo da média da base total de clientes.**\n",
    "7. **A mediana do faturamento pelos clientes do cluster insiders é 10% maior do que a mediana dp faturamento geral.**\n",
    "8. **O percentil do preço dos produtos comprados pelos clientes insiders.**"
   ]
  },
  {
   "cell_type": "markdown",
   "id": "a878bbac",
   "metadata": {
    "hidden": true
   },
   "source": [
    "### H1: Os clientes do cluster insiders possuem um volume (produtos) de compras acima de 10% do total de compras.\n",
    "**Verdade:** Os cluster insiders possuem um volume de compra de produtos de 50%"
   ]
  },
  {
   "cell_type": "code",
   "execution_count": 54,
   "id": "f2574e21",
   "metadata": {
    "ExecuteTime": {
     "end_time": "2023-08-16T21:16:30.222787Z",
     "start_time": "2023-08-16T21:16:30.216271Z"
    },
    "hidden": true
   },
   "outputs": [
    {
     "name": "stdout",
     "output_type": "stream",
     "text": [
      "% Sales Insiders: 50.63%\n"
     ]
    }
   ],
   "source": [
    "# soma da qtde de produtos do insiders\n",
    "df_sales_insiders = df10.loc[df10['cluster'] == 0, 'qtde_products'].sum()\n",
    "df_sales_total = df10.loc[:, 'qtde_products'].sum()\n",
    "\n",
    "# soma da qtde de produtos total\n",
    "print( '% Sales Insiders: {:.2f}%'.format( 100*df_sales_insiders/df_sales_total ) )"
   ]
  },
  {
   "cell_type": "code",
   "execution_count": 96,
   "id": "9577bcb9",
   "metadata": {},
   "outputs": [
    {
     "data": {
      "image/png": "[encoded data removed]",
      "text/plain": [
       "<Figure size 1500x500 with 1 Axes>"
      ]
     },
     "metadata": {},
     "output_type": "display_data"
    }
   ],
   "source": [
    "aux = df10[['cluster', 'qtde_products']].groupby('cluster').sum().reset_index()\n",
    "aux['perc'] = round((aux.qtde_products / aux.qtde_products.sum() * 100 ), 2)\n",
    "sns.barplot(data=aux, x='cluster', y='qtde_products', errorbar=None);\n",
    "for index, row in aux.iterrows():\n",
    "    plt.annotate(f'{row[\"perc\"]:.2f}%', (index, row['qtde_products']), ha='center', va='bottom' )\n",
    "plt.title( 'Volume de Compras x Cluster')\n",
    "plt.xlabel( 'Cluster')\n",
    "plt.ylabel( 'Quantidade de Produtos Comprados');\n",
    "plt.savefig('../../reports/figures/hipotese01.png')\n",
    "plt.show()"
   ]
  },
  {
   "cell_type": "markdown",
   "id": "c2900720",
   "metadata": {
    "hidden": true
   },
   "source": [
    "### H2: Os clientes do cluster insiders possuem um volume (faturamento) de compras acima de 10% do total de compras.\n",
    "**Verdadeiro:** O cluster insiders possuem um volume de GMV de 55%"
   ]
  },
  {
   "cell_type": "code",
   "execution_count": 55,
   "id": "e912aa1e",
   "metadata": {
    "ExecuteTime": {
     "end_time": "2023-08-16T21:16:43.311067Z",
     "start_time": "2023-08-16T21:16:43.303365Z"
    },
    "hidden": true
   },
   "outputs": [
    {
     "name": "stdout",
     "output_type": "stream",
     "text": [
      "% GMV Insiders: 55.02%\n"
     ]
    }
   ],
   "source": [
    "# soma da qtde de produtos do insiders\n",
    "df_gmv_insiders = df10.loc[df10['cluster'] == 0, 'gross_revenue'].sum()\n",
    "df_gmv_total = df10.loc[:, 'gross_revenue'].sum()\n",
    "\n",
    "# soma da qtde de produtos total\n",
    "print( '% GMV Insiders: {:.2f}%'.format( 100*df_gmv_insiders/df_gmv_total ) )"
   ]
  },
  {
   "cell_type": "code",
   "execution_count": 97,
   "id": "398336cc",
   "metadata": {},
   "outputs": [
    {
     "data": {
      "image/png": "[encoded data removed]",
      "text/plain": [
       "<Figure size 1500x500 with 1 Axes>"
      ]
     },
     "metadata": {},
     "output_type": "display_data"
    }
   ],
   "source": [
    "aux = df10[['cluster', 'gross_revenue']].groupby('cluster').sum().reset_index()\n",
    "aux['perc'] = round((aux.gross_revenue / aux.gross_revenue.sum() * 100 ), 2)\n",
    "sns.barplot(data=aux, x='cluster', y='gross_revenue', errorbar=None);\n",
    "for index, row in aux.iterrows():\n",
    "    plt.annotate(f'{row[\"perc\"]:.2f}%', (index, row['gross_revenue']), ha='center', va='bottom' )\n",
    "plt.title( 'Volume de Faturamento x Cluster')\n",
    "plt.xlabel( 'Cluster')\n",
    "plt.ylabel( 'Volume de Faturamento');\n",
    "plt.savefig('../../reports/figures/hipotese02.png')\n",
    "plt.show()"
   ]
  },
  {
   "cell_type": "markdown",
   "id": "04bca98c",
   "metadata": {
    "hidden": true
   },
   "source": [
    "### H3: Os clientes do cluster insiders tem um número de devolução abaixo da média da base total de clientes.\n",
    "**Falso** O cluster insiders tem média de devoluções acima da média geral"
   ]
  },
  {
   "cell_type": "code",
   "execution_count": 100,
   "id": "06503d8d",
   "metadata": {
    "ExecuteTime": {
     "end_time": "2023-08-16T21:16:50.944019Z",
     "start_time": "2023-08-16T21:16:50.937017Z"
    },
    "hidden": true
   },
   "outputs": [
    {
     "name": "stdout",
     "output_type": "stream",
     "text": [
      "Avg Return Insiders: 204.0 vs Avg Return All: 31.0\n"
     ]
    }
   ],
   "source": [
    "# média de devolução do cluster insider\n",
    "df_avg_return_insiders = df10.loc[df10['cluster'] == 0, 'qtde_returns'].mean()\n",
    "\n",
    "# média de devolução do total\n",
    "df_avg_return_all = df10['qtde_returns'].mean()\n",
    "\n",
    "print( 'Avg Return Insiders: {} vs Avg Return All: {}'.format( np.round( df_avg_return_insiders, 0 ), np.round( df_avg_return_all, 0 ) ) )"
   ]
  },
  {
   "cell_type": "code",
   "execution_count": 108,
   "id": "51b72dc8",
   "metadata": {},
   "outputs": [
    {
     "data": {
      "image/png": "[encoded data removed]",
      "text/plain": [
       "<Figure size 1500x500 with 1 Axes>"
      ]
     },
     "metadata": {},
     "output_type": "display_data"
    }
   ],
   "source": [
    "ax= sns.barplot( data=df10, x='cluster', y='qtde_returns', errorbar=None )\n",
    "ax.axhline( y=df_avg_return_all, color='r', linestyle='--')\n",
    "ax.text(1, df_avg_return_all + 3, 'Média de Devoluções: 31', color='black')\n",
    "plt.savefig('../../reports/figures/hipotese03.png')"
   ]
  },
  {
   "cell_type": "markdown",
   "id": "eac59898",
   "metadata": {
    "hidden": true
   },
   "source": [
    "### H4: A mediana do faturamento pelos clientes do cluster insiders é 10% maior do que a mediana dp faturamento geral.\n",
    "**Verdadeiro** A média do faturamento é 477% acima da média."
   ]
  },
  {
   "cell_type": "code",
   "execution_count": 57,
   "id": "70d42103",
   "metadata": {
    "ExecuteTime": {
     "end_time": "2023-08-16T21:16:58.245104Z",
     "start_time": "2023-08-16T21:16:58.239229Z"
    },
    "hidden": true
   },
   "outputs": [
    {
     "name": "stdout",
     "output_type": "stream",
     "text": [
      "Median Diff: 477.92%\n"
     ]
    }
   ],
   "source": [
    "# mediana de gmv do insiders\n",
    "df_median_gmv_insiders = df10.loc[df10['cluster'] == 0, 'gross_revenue'].median()\n",
    "\n",
    "# mediana de gmv do total\n",
    "df_median_gmv_total = df10.loc[:, 'gross_revenue'].median()\n",
    "\n",
    "gmv_diff = ( df_median_gmv_insiders - df_median_gmv_total ) / df_median_gmv_total\n",
    "print( 'Median Diff: {:.2f}%'.format( 100*gmv_diff ) )"
   ]
  },
  {
   "cell_type": "markdown",
   "id": "45688c09",
   "metadata": {
    "hidden": true
   },
   "source": [
    "### H5: O gmv dos clientes insiders esta concentrados no 3º quartil.\n",
    "**Falso** O faturamento do cluster insiders está concentrado no quartil 1"
   ]
  },
  {
   "cell_type": "code",
   "execution_count": 81,
   "id": "1f051161",
   "metadata": {
    "ExecuteTime": {
     "end_time": "2023-08-16T21:17:04.426382Z",
     "start_time": "2023-08-16T21:17:04.056008Z"
    },
    "hidden": true
   },
   "outputs": [
    {
     "data": {
      "text/plain": [
       "<Axes: xlabel='gross_revenue'>"
      ]
     },
     "execution_count": 81,
     "metadata": {},
     "output_type": "execute_result"
    },
    {
     "data": {
      "image/png": "[encoded data removed]",
      "text/plain": [
       "<Figure size 640x480 with 1 Axes>"
      ]
     },
     "metadata": {},
     "output_type": "display_data"
    }
   ],
   "source": [
    "df_aux = df10.loc[(df10['cluster'] == 0) & (df10['gross_revenue'] < 10000 ), 'gross_revenue'];\n",
    "sns.violinplot( x=df_aux ) "
   ]
  },
  {
   "cell_type": "markdown",
   "id": "fe3348c6",
   "metadata": {
    "hidden": true
   },
   "source": [
    "### Hipótese Cliente"
   ]
  },
  {
   "cell_type": "markdown",
   "id": "5ce48fcb",
   "metadata": {
    "hidden": true
   },
   "source": [
    "1. 60% dos clientes do cluster insiders possuem o estado civil de solteiro.\n",
    "2. 10% dos clientes do cluster insiders estão na faixa de 24-35 anos.\n",
    "3. 40% das localidades de entrega do cluster insiders estão dentro de um raio de 50km.\n",
    "4. 5% dos clientes do cluster insiders recebem mais de 100 mil dólares anualmente.\n",
    "5. 90% dos clientes do cluster insiders tem ensino superior completo."
   ]
  },
  {
   "cell_type": "markdown",
   "id": "7cafbeba",
   "metadata": {
    "hidden": true
   },
   "source": [
    "### Hipótese Produto"
   ]
  },
  {
   "cell_type": "markdown",
   "id": "1a502fbd",
   "metadata": {
    "hidden": true
   },
   "source": [
    "1. 30% de todos os produtos em pacotes grandes são comprados pelos clientes do cluster insiders.\n",
    "2. A mediana dos preços dos produtos comprados pelos clientes do cluster insiders é 10% maior do que a mediana de todos os preços dos produtos.\n",
    "3. O percentil do preço dos produtos comprados pelos clientes insiders.\n",
    "4. O peso médio dos produtos comprados pelos clientes do cluster insiders é maior do que o peso médio dos outros clusters.\n",
    "5. A idade média dos produtos comprados pelos clientes do cluster insiders é menor do que 15 dias."
   ]
  },
  {
   "cell_type": "markdown",
   "id": "03549dab",
   "metadata": {
    "hidden": true
   },
   "source": [
    "### Perguntas de Negócio"
   ]
  },
  {
   "cell_type": "markdown",
   "id": "1a665cf5",
   "metadata": {
    "hidden": true
   },
   "source": [
    "### 1. Quem são as pessoas elegíveis para participar do programa de Insiders?"
   ]
  },
  {
   "cell_type": "code",
   "execution_count": 52,
   "id": "94303950",
   "metadata": {
    "ExecuteTime": {
     "end_time": "2023-08-16T21:17:15.527651Z",
     "start_time": "2023-08-16T21:17:15.520181Z"
    },
    "hidden": true
   },
   "outputs": [
    {
     "data": {
      "text/plain": [
       "0    17850\n",
       "1    13047\n",
       "2    12583\n",
       "5    15291\n",
       "6    14688\n",
       "Name: customer_id, dtype: int64"
      ]
     },
     "execution_count": 52,
     "metadata": {},
     "output_type": "execute_result"
    }
   ],
   "source": [
    "df10.loc[df10['cluster'] == 0, 'customer_id'].head()"
   ]
  },
  {
   "cell_type": "markdown",
   "id": "17dd7415",
   "metadata": {
    "ExecuteTime": {
     "end_time": "2023-08-16T13:30:35.928070Z",
     "start_time": "2023-08-16T13:30:35.923642Z"
    },
    "hidden": true
   },
   "source": [
    "### 2. Quantos clientes farão parte do grupo?"
   ]
  },
  {
   "cell_type": "code",
   "execution_count": 53,
   "id": "399c87bd",
   "metadata": {
    "ExecuteTime": {
     "end_time": "2023-08-16T21:17:24.487520Z",
     "start_time": "2023-08-16T21:17:24.481832Z"
    },
    "hidden": true
   },
   "outputs": [
    {
     "data": {
      "text/plain": [
       "761"
      ]
     },
     "execution_count": 53,
     "metadata": {},
     "output_type": "execute_result"
    }
   ],
   "source": [
    "df10.loc[df10['cluster'] == 0, 'customer_id'].size"
   ]
  },
  {
   "cell_type": "markdown",
   "id": "ce9b9130",
   "metadata": {
    "hidden": true
   },
   "source": [
    "### 3. Quais as principais características desses clientes?"
   ]
  },
  {
   "cell_type": "markdown",
   "id": "90530355",
   "metadata": {
    "ExecuteTime": {
     "end_time": "2023-08-16T14:02:58.374777Z",
     "start_time": "2023-08-16T14:02:58.368067Z"
    },
    "hidden": true
   },
   "source": [
    "#### Cluster 01: (Candidato à Insider)\n",
    "    - Número de Customers: 761 (13%)\n",
    "    - Faturamento Médio: $7305\n",
    "    - Recencia Média: 58 \n",
    "    - Média de Produtos Comprados: 351  \n",
    "    - Frequência do Produtos comprados/mês: 8.7 \n",
    "    - Média de Produtos Devolvidos: 204"
   ]
  },
  {
   "cell_type": "markdown",
   "id": "e36961b0",
   "metadata": {
    "hidden": true
   },
   "source": [
    "### 4. Qual a porcentagem de contribuição do faturamento, vinda do Insiders?"
   ]
  },
  {
   "cell_type": "code",
   "execution_count": 54,
   "id": "238db93a",
   "metadata": {
    "ExecuteTime": {
     "end_time": "2023-08-16T21:17:36.414310Z",
     "start_time": "2023-08-16T21:17:36.407307Z"
    },
    "hidden": true
   },
   "outputs": [
    {
     "name": "stdout",
     "output_type": "stream",
     "text": [
      "% GMV from Insiders: 0.5501729803170662\n"
     ]
    }
   ],
   "source": [
    "df_insiders_gmv = df10.loc[df10['cluster'] == 0, 'gross_revenue'].sum()\n",
    "df_all_gmv = df10.loc[:, 'gross_revenue'].sum()\n",
    "\n",
    "print( '% GMV from Insiders: {}'.format( df_insiders_gmv / df_all_gmv ) )"
   ]
  },
  {
   "cell_type": "markdown",
   "id": "8f46bed1",
   "metadata": {
    "hidden": true
   },
   "source": [
    "### 5. Qual a expectativa de faturamento desse grupo para os próximos meses?"
   ]
  },
  {
   "cell_type": "markdown",
   "id": "e8713097",
   "metadata": {
    "hidden": true
   },
   "source": [
    "### 6. Quais as condições para uma pessoa ser elegível ao Insiders?"
   ]
  },
  {
   "cell_type": "markdown",
   "id": "0b336545",
   "metadata": {
    "hidden": true
   },
   "source": [
    "### 7. Quais as condições para uma pessoa ser removida do Insiders?"
   ]
  },
  {
   "cell_type": "markdown",
   "id": "cf19dd50",
   "metadata": {
    "hidden": true
   },
   "source": [
    "8. Qual a garantia que o programa Insiders é melhor que o restante da base?"
   ]
  },
  {
   "cell_type": "markdown",
   "id": "69d97254",
   "metadata": {
    "hidden": true
   },
   "source": [
    "9. Quais ações o time de marketing pode realizar para aumentar o faturamento?"
   ]
  },
  {
   "cell_type": "markdown",
   "id": "cab42089",
   "metadata": {
    "hidden": true
   },
   "source": [
    "## 10.3. Priorização das Hipótese"
   ]
  },
  {
   "cell_type": "markdown",
   "id": "b1e001d8",
   "metadata": {
    "hidden": true
   },
   "source": [
    "## 10.4 Validação das Hipóteses"
   ]
  },
  {
   "cell_type": "markdown",
   "id": "555c7afa",
   "metadata": {
    "hidden": true
   },
   "source": [
    "## 10.5. Quadro de Respostas"
   ]
  },
  {
   "cell_type": "markdown",
   "id": "859434d3",
   "metadata": {},
   "source": [
    "# <div style=\"color:red;display:fill;border-radius:15px;background-color:#5d6d7e;letter-spacing:0.2px;overflow:hidden\"><p style=\"padding:10px;color:white;overflow:hidden;text-align: center;margin:0;font-size:100%\">11.0. Deploy to Production</p></div>         "
   ]
  },
  {
   "cell_type": "code",
   "execution_count": 59,
   "id": "c1343dc0",
   "metadata": {
    "ExecuteTime": {
     "end_time": "2023-08-22T11:50:33.231967Z",
     "start_time": "2023-08-22T11:50:33.224807Z"
    }
   },
   "outputs": [
    {
     "data": {
      "text/plain": [
       "customer_id        int64\n",
       "gross_revenue    float64\n",
       "recency_days       int64\n",
       "qtde_products      int64\n",
       "frequency        float64\n",
       "qtde_returns       int64\n",
       "cluster           object\n",
       "dtype: object"
      ]
     },
     "execution_count": 59,
     "metadata": {},
     "output_type": "execute_result"
    }
   ],
   "source": [
    "df92.dtypes"
   ]
  },
  {
   "cell_type": "code",
   "execution_count": 53,
   "id": "41d5a7f7",
   "metadata": {},
   "outputs": [],
   "source": [
    "cluster_name = {0:'Insiders', 5:'Loyals', 7:'More Products', 1:'More Frequency', 4:'Need Attention', 2:'At Risk', 6:'Hibernating', 3:'More Buy'}\n",
    "df92['cluster'] = df92['cluster'].map( cluster_name)"
   ]
  },
  {
   "cell_type": "markdown",
   "id": "78110a5b",
   "metadata": {},
   "source": [
    "## 11.1. Insert into SQLITE"
   ]
  },
  {
   "cell_type": "code",
   "execution_count": 56,
   "id": "d1460b6b",
   "metadata": {},
   "outputs": [],
   "source": [
    "DB_HOST = config('DB_HOST')\n",
    "DB_PORT = config('DB_PORT')\n",
    "DB_NAME = config('DB_NAME')\n",
    "DB_USER = config('DB_USER')\n",
    "DB_PASSWORD = config('DB_PASSWORD')"
   ]
  },
  {
   "cell_type": "code",
   "execution_count": 57,
   "id": "4a580794",
   "metadata": {
    "ExecuteTime": {
     "end_time": "2023-08-22T11:56:04.559914Z",
     "start_time": "2023-08-22T11:56:04.546424Z"
    }
   },
   "outputs": [],
   "source": [
    "# database conection\n",
    "#endpoint = 'sqlite:///insiders_db.sqlite'\n",
    "\n",
    "endpoint=f'postgresql://{DB_USER}:{DB_PASSWORD}@{DB_HOST}/postgres' \n",
    "\n",
    "engine = sqlalchemy.create_engine( endpoint )\n",
    "\n",
    "# create table\n",
    "query_create_insiders = \"\"\"\n",
    "    CREATE TABLE insiders (\n",
    "        customer_id      INTEGER,\n",
    "        gross_revenue    REAL,\n",
    "        recency_days     INTEGER,\n",
    "        qtde_products    INTEGER,\n",
    "        frequency        REAL,\n",
    "        qtde_returns     INTEGER,\n",
    "        cluster          TEXT \n",
    "    \n",
    "    )\n",
    "\"\"\""
   ]
  },
  {
   "cell_type": "code",
   "execution_count": 58,
   "id": "c04c4ffe",
   "metadata": {
    "ExecuteTime": {
     "end_time": "2023-08-22T11:56:47.729786Z",
     "start_time": "2023-08-22T11:56:47.657899Z"
    }
   },
   "outputs": [],
   "source": [
    "with engine.connect() as connection:\n",
    "    df92.to_sql('insiders', con=connection, if_exists='replace', index=False)"
   ]
  },
  {
   "cell_type": "code",
   "execution_count": null,
   "id": "e4651aaa",
   "metadata": {},
   "outputs": [],
   "source": [
    "#df92.to_sql ( 'insiders', con=conn, if_exists='append', index=False )"
   ]
  },
  {
   "cell_type": "code",
   "execution_count": null,
   "id": "2ef8e645",
   "metadata": {
    "ExecuteTime": {
     "end_time": "2023-08-22T11:58:16.671284Z",
     "start_time": "2023-08-22T11:58:16.626720Z"
    }
   },
   "outputs": [],
   "source": [
    "## get query\n",
    "#query_collect = \"\"\"\n",
    "#    SELECT * FROM insiders\"\"\"\n",
    "#\n",
    "#df = pd.read_sql_query( query_collect, connection )\n",
    "#df.head()"
   ]
  },
  {
   "cell_type": "code",
   "execution_count": null,
   "id": "6f0f90e7",
   "metadata": {},
   "outputs": [],
   "source": []
  },
  {
   "cell_type": "code",
   "execution_count": null,
   "id": "a2730c84",
   "metadata": {},
   "outputs": [],
   "source": []
  },
  {
   "cell_type": "code",
   "execution_count": null,
   "id": "3755eebd",
   "metadata": {},
   "outputs": [],
   "source": []
  },
  {
   "cell_type": "code",
   "execution_count": null,
   "id": "5355cb06",
   "metadata": {},
   "outputs": [],
   "source": []
  }
 ],
 "metadata": {
  "kernelspec": {
   "display_name": "Python 3 (ipykernel)",
   "language": "python",
   "name": "python3"
  },
  "language_info": {
   "codemirror_mode": {
    "name": "ipython",
    "version": 3
   },
   "file_extension": ".py",
   "mimetype": "text/x-python",
   "name": "python",
   "nbconvert_exporter": "python",
   "pygments_lexer": "ipython3",
   "version": "3.11.4"
  },
  "varInspector": {
   "cols": {
    "lenName": 16,
    "lenType": 16,
    "lenVar": 40
   },
   "kernels_config": {
    "python": {
     "delete_cmd_postfix": "",
     "delete_cmd_prefix": "del ",
     "library": "var_list.py",
     "varRefreshCmd": "print(var_dic_list())"
    },
    "r": {
     "delete_cmd_postfix": ") ",
     "delete_cmd_prefix": "rm(",
     "library": "var_list.r",
     "varRefreshCmd": "cat(var_dic_list()) "
    }
   },
   "types_to_exclude": [
    "module",
    "function",
    "builtin_function_or_method",
    "instance",
    "_Feature"
   ],
   "window_display": false
  }
 },
 "nbformat": 4,
 "nbformat_minor": 5
}
