{
 "cells": [
  {
   "cell_type": "markdown",
   "id": "b3c1d787",
   "metadata": {},
   "source": [
    "# PA005: High Value Customer Identification (Insiders)"
   ]
  },
  {
   "cell_type": "markdown",
   "id": "ec7d488a",
   "metadata": {},
   "source": [
    "## 0.0. Planejamento da Solução (IOT)\n"
   ]
  },
  {
   "cell_type": "markdown",
   "id": "4f33af51",
   "metadata": {},
   "source": [
    "### Input - Entrada"
   ]
  },
  {
   "cell_type": "markdown",
   "id": "6722d285",
   "metadata": {},
   "source": [
    "1. Problema de Negócio\n",
    "    * Selecionar os clientes mais valioses para integrar um programa de Fidelização\n",
    "2. Conjunto de Dados\n",
    "    * Vendas de um e-commerce online, dutante o período de um ano."
   ]
  },
  {
   "cell_type": "markdown",
   "id": "1500316d",
   "metadata": {},
   "source": [
    "### Output - Saída"
   ]
  },
  {
   "cell_type": "markdown",
   "id": "ef0db926",
   "metadata": {},
   "source": [
    "1. A indicação das pessoas que farão parte do programa de Insiders\n",
    "    - Lista: \n",
    "| client_id | is_insider |\n",
    "|-----------|------------|\n",
    "|    10323   |   yes/1    |\n",
    "|    32413   |   no/1    |\n",
    "\n",
    "2. Relatório com as perguntas de negócio\n",
    "    * Quem são as pessoas elegíveis para participar do programa de Insiders?\n",
    "    * Quantos clientes farão parte do grupo?\n",
    "    * Quais as principais características desses clientes?\n",
    "    * Qual a porcentagem de contribuição do faturamento, vinda do Insiders?\n",
    "    * Qual a expectativa de faturamento desse grupo para os próximos meses?\n",
    "    * Quais as condições para uma pessoa ser elegível ao Insiders?\n",
    "    * Quais as condições para uma pessoa ser removida do Insiders?\n",
    "    * Qual a garantia que o programa Insiders é melhor que o restante da base?\n",
    "    * Quais ações o time de marketing pode realizar para aumentar o faturamento?"
   ]
  },
  {
   "cell_type": "markdown",
   "id": "d7ddd910",
   "metadata": {},
   "source": [
    "1. Quem são as pessoas elegíveis para participar do programa de Insiders?\n",
    "    - O que é ser elegível? O que são clientes de maior \"valor\"?\n",
    "    - Faturamento:\n",
    "        - Alto Ticket médio.\n",
    "        - Alto LTV.\n",
    "        - Baixa Recência.\n",
    "        - Alto basket size.\n",
    "        - Baixa probabilidade de Churn.\n",
    "        - Alta previsão de LTV.\n",
    "        - Alta propensão de compra.\n",
    "        \n",
    "    - Custo:\n",
    "        - Baixa taxa de devolução.\n",
    "        \n",
    "    - Experiência de compra:\n",
    "        - Média alta das avaliações.\n",
    "\n",
    "2. Quantos clientes farão parte do grupo?\n",
    "    - Número total de clientes\n",
    "    - % do grupo Insiders\n",
    "\n",
    "3. Quais as principais características desses clientes?\n",
    "    - Escrever características do cliente:\n",
    "        - Idade\n",
    "        - Localização\n",
    "    - Escrever características do consumo:\n",
    "        - Atributos da clusterização\n",
    "\n",
    "4. Qual a porcentagem de contribuição do faturamento, vinda do Insiders?\n",
    "    - Faturamento total do ano\n",
    "    - Faturamento do grupo Insiders\n",
    "\n",
    "5. Qual a expectativa de faturamento desse grupo para os próximos meses?\n",
    "    - LTV do grupo Insiders\n",
    "    - Análise de Cohort\n",
    "    \n",
    "6. Quais as condições para uma pessoa ser elegível ao Insiders?\n",
    "    - Definir a periodicidade (1 mês, 3 meses )\n",
    "    - A pessoa precisa ser similar ou parecida com uma pessoa do grupo.\n",
    "\n",
    "7. Quais as condições para uma pessoa ser removida do Insiders?\n",
    "    - Definir a peirodicidade (1 mês, 3 meses )\n",
    "    - A pessoa precisa ser desimilar ou não-parecida com uma pessoa do grupo.\n",
    "\n",
    "8. Qual a garantia que o programa Insiders é melhor que o restante da base?\n",
    "    - Teste A/B\n",
    "    - Teste A/B Bayesiano\n",
    "    - Teste de hipóteses.\n",
    "\n",
    "9. Quais ações o time de marketing pode realizar para aumentar o faturamento?\n",
    "    - Desconto\n",
    "    - Preferência de compra\n",
    "    - Frete\n",
    "    - Visita a empresa"
   ]
  },
  {
   "cell_type": "markdown",
   "id": "e3a47739",
   "metadata": {},
   "source": [
    "## Benckmark de soluções\n",
    "### 1. Desk Research"
   ]
  },
  {
   "cell_type": "code",
   "execution_count": null,
   "id": "7530230c",
   "metadata": {},
   "outputs": [],
   "source": []
  }
 ],
 "metadata": {
  "kernelspec": {
   "display_name": "Python 3 (ipykernel)",
   "language": "python",
   "name": "python3"
  },
  "language_info": {
   "codemirror_mode": {
    "name": "ipython",
    "version": 3
   },
   "file_extension": ".py",
   "mimetype": "text/x-python",
   "name": "python",
   "nbconvert_exporter": "python",
   "pygments_lexer": "ipython3",
   "version": "3.9.17"
  },
  "varInspector": {
   "cols": {
    "lenName": 16,
    "lenType": 16,
    "lenVar": 40
   },
   "kernels_config": {
    "python": {
     "delete_cmd_postfix": "",
     "delete_cmd_prefix": "del ",
     "library": "var_list.py",
     "varRefreshCmd": "print(var_dic_list())"
    },
    "r": {
     "delete_cmd_postfix": ") ",
     "delete_cmd_prefix": "rm(",
     "library": "var_list.r",
     "varRefreshCmd": "cat(var_dic_list()) "
    }
   },
   "types_to_exclude": [
    "module",
    "function",
    "builtin_function_or_method",
    "instance",
    "_Feature"
   ],
   "window_display": false
  }
 },
 "nbformat": 4,
 "nbformat_minor": 5
}
